{
 "cells": [
  {
   "cell_type": "markdown",
   "id": "0e2b257a-8146-48dd-84d2-3fab98ac4cc7",
   "metadata": {},
   "source": [
    "## Finding Cell-Cell Communication groups using scACCorDiON and CrossTalkeR\n",
    "\n",
    "James S. Nagai\n",
    "\n",
    "28.01.2024\n",
    "\n",
    "*Note: Before using ACCorDIoN make sure that you have the CrossTalkeR installed in your local R enviroment([github](https://costalab.github.io/CrossTalkeR/))*\n",
    "\n",
    "Here we introduce scACCorDIoN. In this notebook, we guide you into the framework steps.\n"
   ]
  },
  {
   "cell_type": "code",
   "execution_count": 1,
   "id": "415ad256",
   "metadata": {},
   "outputs": [
    {
     "name": "stderr",
     "output_type": "stream",
     "text": [
      "/home/james/.local/lib/python3.10/site-packages/pandas/core/arrays/masked.py:60: UserWarning: Pandas requires version '1.3.6' or newer of 'bottleneck' (version '1.3.2' currently installed).\n",
      "  from pandas.core import (\n",
      "2025-01-28 11:40:58.381088: W tensorflow/stream_executor/platform/default/dso_loader.cc:64] Could not load dynamic library 'libcudart.so.11.0'; dlerror: libcudart.so.11.0: cannot open shared object file: No such file or directory\n"
     ]
    }
   ],
   "source": [
    "import pandas as pd\n",
    "import os \n",
    "import seaborn as sns\n",
    "import matplotlib.pyplot as plt\n",
    "import numpy as np\n",
    "import pickle\n",
    "from pydiffmap import diffusion_map as dm\n",
    "from scaccordion import tl\n",
    "import networkx as nx\n",
    "from sklearn.preprocessing import Normalizer\n",
    "import warnings\n",
    "import ot\n",
    "from scipy.sparse import diags\n",
    "from scipy.sparse.linalg import eigs\n",
    "from sklearn import manifold\n",
    "from scipy.linalg import  norm\n",
    "import phate\n",
    "import matplotlib.pyplot as plt\n",
    "from matplotlib.offsetbox import OffsetImage, AnnotationBbox\n",
    "import networkx as nx\n",
    "import sci_palettes\n",
    "from tqdm import tqdm\n",
    "import kmedoids\n",
    "import random\n",
    "import itertools as it\n",
    "np.random.seed(859)\n",
    "warnings.filterwarnings(\"ignore\")"
   ]
  },
  {
   "cell_type": "code",
   "execution_count": 2,
   "id": "cb9bedb9",
   "metadata": {},
   "outputs": [
    {
     "ename": "FileNotFoundError",
     "evalue": "[Errno 2] No such file or directory: '../data/Distance_results/Peng_PDAC_processed_data_tmm_final.pickle'",
     "output_type": "error",
     "traceback": [
      "\u001b[0;31m---------------------------------------------------------------------------\u001b[0m",
      "\u001b[0;31mFileNotFoundError\u001b[0m                         Traceback (most recent call last)",
      "Cell \u001b[0;32mIn[2], line 1\u001b[0m\n\u001b[0;32m----> 1\u001b[0m f \u001b[38;5;241m=\u001b[39m \u001b[38;5;28;43mopen\u001b[39;49m\u001b[43m(\u001b[49m\u001b[38;5;124;43m\"\u001b[39;49m\u001b[38;5;124;43m../data/Distance_results/Peng_PDAC_processed_data_tmm_final.pickle\u001b[39;49m\u001b[38;5;124;43m\"\u001b[39;49m\u001b[43m,\u001b[49m\u001b[38;5;124;43m'\u001b[39;49m\u001b[38;5;124;43mrb\u001b[39;49m\u001b[38;5;124;43m'\u001b[39;49m\u001b[43m)\u001b[49m\n\u001b[1;32m      2\u001b[0m metadata \u001b[38;5;241m=\u001b[39m pd\u001b[38;5;241m.\u001b[39mread_hdf(\u001b[38;5;124mf\u001b[39m\u001b[38;5;124m\"\u001b[39m\u001b[38;5;124m../data/metadata/Peng_PDAC_metaacc.h5ad\u001b[39m\u001b[38;5;124m\"\u001b[39m)\n\u001b[1;32m      3\u001b[0m Aaccdt \u001b[38;5;241m=\u001b[39m pickle\u001b[38;5;241m.\u001b[39mload(f)\n",
      "File \u001b[0;32m~/.local/lib/python3.10/site-packages/IPython/core/interactiveshell.py:324\u001b[0m, in \u001b[0;36m_modified_open\u001b[0;34m(file, *args, **kwargs)\u001b[0m\n\u001b[1;32m    317\u001b[0m \u001b[38;5;28;01mif\u001b[39;00m file \u001b[38;5;129;01min\u001b[39;00m {\u001b[38;5;241m0\u001b[39m, \u001b[38;5;241m1\u001b[39m, \u001b[38;5;241m2\u001b[39m}:\n\u001b[1;32m    318\u001b[0m     \u001b[38;5;28;01mraise\u001b[39;00m \u001b[38;5;167;01mValueError\u001b[39;00m(\n\u001b[1;32m    319\u001b[0m         \u001b[38;5;124mf\u001b[39m\u001b[38;5;124m\"\u001b[39m\u001b[38;5;124mIPython won\u001b[39m\u001b[38;5;124m'\u001b[39m\u001b[38;5;124mt let you open fd=\u001b[39m\u001b[38;5;132;01m{\u001b[39;00mfile\u001b[38;5;132;01m}\u001b[39;00m\u001b[38;5;124m by default \u001b[39m\u001b[38;5;124m\"\u001b[39m\n\u001b[1;32m    320\u001b[0m         \u001b[38;5;124m\"\u001b[39m\u001b[38;5;124mas it is likely to crash IPython. If you know what you are doing, \u001b[39m\u001b[38;5;124m\"\u001b[39m\n\u001b[1;32m    321\u001b[0m         \u001b[38;5;124m\"\u001b[39m\u001b[38;5;124myou can use builtins\u001b[39m\u001b[38;5;124m'\u001b[39m\u001b[38;5;124m open.\u001b[39m\u001b[38;5;124m\"\u001b[39m\n\u001b[1;32m    322\u001b[0m     )\n\u001b[0;32m--> 324\u001b[0m \u001b[38;5;28;01mreturn\u001b[39;00m \u001b[43mio_open\u001b[49m\u001b[43m(\u001b[49m\u001b[43mfile\u001b[49m\u001b[43m,\u001b[49m\u001b[43m \u001b[49m\u001b[38;5;241;43m*\u001b[39;49m\u001b[43margs\u001b[49m\u001b[43m,\u001b[49m\u001b[43m \u001b[49m\u001b[38;5;241;43m*\u001b[39;49m\u001b[38;5;241;43m*\u001b[39;49m\u001b[43mkwargs\u001b[49m\u001b[43m)\u001b[49m\n",
      "\u001b[0;31mFileNotFoundError\u001b[0m: [Errno 2] No such file or directory: '../data/Distance_results/Peng_PDAC_processed_data_tmm_final.pickle'"
     ]
    }
   ],
   "source": [
    "f = open(\"../data/Distance_results/Peng_PDAC_processed_data_tmm_final.pickle\",'rb')\n",
    "metadata = pd.read_hdf(f\"../data/metadata/Peng_PDAC_metaacc.h5ad\")\n",
    "Aaccdt = pickle.load(f)\n",
    "labels=metadata.loc[Aaccdt.p.columns,'accLabel']"
   ]
  },
  {
   "cell_type": "code",
   "execution_count": null,
   "id": "36a85821",
   "metadata": {},
   "outputs": [],
   "source": [
    "weight=\"lr_means\"\n",
    "tmpcols = ['source','target',weight]\n",
    "for k,v in Aaccdt.tbls.items():\n",
    "    tmpvar = v.loc[:,tmpcols].groupby(['source','target']).sum().reset_index()\n",
    "    prop = v.loc[:,tmpcols].groupby(['source','target']).size().reset_index()\n",
    "    prop[0]=prop[0]/prop[0].sum()\n",
    "    tmpvar['prop'] =  prop[0]\n",
    "    Aaccdt.graphs[k]=nx.from_pandas_edgelist(tmpvar,\n",
    "                                        edge_attr=[weight,'prop'],\n",
    "                                        create_using=nx.DiGraph)\n",
    "    Aaccdt.nodes.update(list(Aaccdt.graphs[k].nodes()))\n",
    "Aaccdt.p = tl.utils.graphs_to_pmat(Aaccdt.nodes,Aaccdt.graphs,weight)\n",
    "Aaccdt.p.sort_index(inplace=True)\n",
    "c = tl.utils.graphs_to_pmat(Aaccdt.nodes,Aaccdt.graphs,'prop')\n",
    "Aaccdt.c = c.loc[Aaccdt.p.index,:]"
   ]
  },
  {
   "cell_type": "code",
   "execution_count": null,
   "id": "493a4279",
   "metadata": {},
   "outputs": [],
   "source": [
    "Aaccdt.make_pca()"
   ]
  },
  {
   "cell_type": "code",
   "execution_count": null,
   "id": "119be171",
   "metadata": {},
   "outputs": [],
   "source": [
    "pcaold = Aaccdt.Cs['PCA']"
   ]
  },
  {
   "cell_type": "code",
   "execution_count": null,
   "id": "9cae0cf9",
   "metadata": {},
   "outputs": [],
   "source": [
    "Aaccdt.p = Aaccdt.c.apply(lambda x: x/np.sum(x))"
   ]
  },
  {
   "cell_type": "code",
   "execution_count": null,
   "id": "d409625e",
   "metadata": {},
   "outputs": [],
   "source": [
    "Aaccdt.make_pca()"
   ]
  },
  {
   "cell_type": "code",
   "execution_count": null,
   "id": "12e959e9",
   "metadata": {},
   "outputs": [],
   "source": [
    "metadata.groupby(\"accLabel\").size().reset_index()"
   ]
  },
  {
   "cell_type": "code",
   "execution_count": null,
   "id": "76ab0a8b",
   "metadata": {},
   "outputs": [],
   "source": [
    "sns.scatterplot(x=Aaccdt.Cs['PCA'].loc[:,0],y=Aaccdt.Cs['PCA'].loc[:,1],hue=metadata['accLabel'])"
   ]
  },
  {
   "cell_type": "code",
   "execution_count": null,
   "id": "a610ef40-7670-4452-87bf-5bab6a6116a2",
   "metadata": {},
   "outputs": [],
   "source": [
    "```{python}\n",
    "km = kmedoids.KMedoids(n_clusters=3, method='fasterpam')\n",
    "plt.figure(figsize=(6,5))\n",
    "c = km.fit(Aaccdt.wdist['HTD_0.5'].to_numpy())\n",
    "```"
   ]
  },
  {
   "cell_type": "code",
   "execution_count": null,
   "id": "2b924226",
   "metadata": {},
   "outputs": [],
   "source": [
    "X =np.round(Aaccdt.wdist['HTD_0.5'].loc[Aaccdt.wdist['HTD_0.5'].index,Aaccdt.wdist['HTD_0.5'].index],5)\n",
    "clust,loss = [],[]\n",
    "for _ in tqdm(range(100)):\n",
    "    kmeans = tl.KBarycenters(k=3,init='++',random_state=42,max_iters=100)\n",
    "    kmeans.fit(X,distr=Aaccdt.p.loc[list(Aaccdt.expgraph.nodes()),:],cost=Aaccdt.Cs['HTD_0.5'])\n",
    "    clust.append(kmeans)\n",
    "    loss.append(kmeans.centroids.mean().mean())\n",
    "ncls= clust[np.argmin(loss)]"
   ]
  },
  {
   "cell_type": "code",
   "execution_count": null,
   "id": "d3f8c7b8",
   "metadata": {},
   "outputs": [],
   "source": [
    "aux = ncls.centroids.to_dict()\n",
    "for i in range(3):\n",
    "    for j in range(i,3):\n",
    "        if i!=j:\n",
    "            aux[i][j] = ot.emd2(a=ncls.bary[i]/ncls.bary[i].sum(),\n",
    "                                b=ncls.bary[j]/ncls.bary[j].sum(),M=Aaccdt.Cs['HTD_0.5'])\n",
    "            aux[j][i] = ot.emd2(a=ncls.bary[i]/ncls.bary[i].sum(),\n",
    "                                b=ncls.bary[j]/ncls.bary[j].sum(),M=Aaccdt.Cs['HTD_0.5'])\n",
    "        else:\n",
    "            aux[i][j] = 0\n",
    "eux = pd.concat([Aaccdt.wdist['HTD_0.5'],ncls.centroids],axis=1)\n",
    "eux = pd.concat([eux,pd.DataFrame.from_dict(aux).T])\n",
    "tmplab = ncls.flabels.tolist()\n",
    "for i in [0,1,2]:\n",
    "    tmplab.append(i) "
   ]
  },
  {
   "cell_type": "code",
   "execution_count": null,
   "id": "ae6596ed",
   "metadata": {},
   "outputs": [],
   "source": [
    "tmpstl = ['0']*len(Aaccdt.p.columns)+['1']*3"
   ]
  },
  {
   "cell_type": "code",
   "execution_count": null,
   "id": "f2eacba5",
   "metadata": {},
   "outputs": [],
   "source": [
    "import phate"
   ]
  },
  {
   "cell_type": "code",
   "execution_count": null,
   "id": "13fccca6",
   "metadata": {},
   "outputs": [],
   "source": [
    "emb1 = phate.PHATE(knn=8,knn_dist='precomputed',random_state=42)\n",
    "emb1 = emb1.fit_transform(eux.to_numpy())"
   ]
  },
  {
   "cell_type": "code",
   "execution_count": null,
   "id": "81589d47",
   "metadata": {},
   "outputs": [],
   "source": [
    "%matplotlib agg\n",
    "fs,axs = plt.subplots(1,2,figsize=(12,5))\n",
    "axs = axs.ravel()"
   ]
  },
  {
   "cell_type": "markdown",
   "id": "ca65048b",
   "metadata": {},
   "source": [
    "## Clustering"
   ]
  },
  {
   "cell_type": "code",
   "execution_count": null,
   "id": "584df022",
   "metadata": {},
   "outputs": [],
   "source": [
    "barys = pd.DataFrame(ncls.bary,index=Aaccdt.p.loc[list(Aaccdt.expgraph.nodes()),:].index)\n",
    "barys.reset_index(inplace=True)\n",
    "barys[['u', 'v']] = barys['index'].str.split('$', expand=True)\n",
    "cmapse =[plt.cm.Greens,plt.cm.Blues,plt.cm.Reds]\n",
    "vtxcmap = {i[1]:plt.cm.tab10.colors[i[0]] for i in enumerate(Aaccdt.nodes)}"
   ]
  },
  {
   "cell_type": "code",
   "execution_count": null,
   "id": "dc684d93",
   "metadata": {},
   "outputs": [],
   "source": [
    "sns.scatterplot(x=emb1[0:-3,0],\n",
    "                y=emb1[0:-3,1],hue=labels,s=200,linewidth=0,ax=axs[0])\n",
    "axs[0].legend(loc=0, bbox_to_anchor=(1, 0.5))\n",
    "\n",
    "axs[0].invert_xaxis()\n",
    "\n",
    "sns.scatterplot(x=emb1[:,0],\n",
    "                y=emb1[:,1],hue=tmplab,s=200,style=tmpstl,palette=list(plt.cm.Set1.colors)[0:3],\n",
    "                size=tmpstl,sizes=(400,200),linewidth=0,ax=axs[1])\n",
    "axs[1].legend(loc=0, bbox_to_anchor=(1, 0.5))\n",
    "axs[1].invert_xaxis()\n",
    "fs.tight_layout()\n",
    "fs.savefig(\"../figs/selection/PDAC_MDS.pdf\")\n",
    "fs"
   ]
  },
  {
   "cell_type": "code",
   "execution_count": null,
   "id": "af9a83c3",
   "metadata": {},
   "outputs": [],
   "source": [
    "fs,axs = plt.subplots(1,3,figsize=(18,5),dpi=72)\n",
    "axs = axs.ravel()\n",
    "cnt=0\n",
    "for i in [2,1,0]:\n",
    "    barynet =nx.from_pandas_edgelist(barys[barys[i]>1e-5].sort_values(i,ascending=True),\n",
    "                            source='u',\n",
    "                            target='v',\n",
    "                            edge_attr=i,\n",
    "                            create_using=nx.DiGraph)\n",
    "    tempnet = nx.complete_graph(len(Aaccdt.nodes),create_using=nx.DiGraph)\n",
    "    pos = nx.circular_layout(tempnet,scale=2)\n",
    "    pos = {list(Aaccdt.nodes)[i[0]]:i[1] for i in enumerate(pos.values())}\n",
    "    for id1 in Aaccdt.nodes:\n",
    "        if  id1 not in barynet.nodes():\n",
    "            barynet.add_node(id1)\n",
    "    plt.figure(figsize=(5,5))\n",
    "    currcmap = [vtxcmap[u] for u in barynet.nodes()]\n",
    "    nsz=[i*5000 for i in list(nx.pagerank(barynet).values())]\n",
    "    nx.draw_networkx_nodes(barynet,pos,node_size=nsz,node_color=currcmap,ax=axs[cnt])\n",
    "    edcol = nx.get_edge_attributes(barynet,i)\n",
    "    nx.draw_networkx_edges(barynet,pos=pos,edge_color=edcol.values(),\n",
    "                           connectionstyle=\"arc3,rad=0.30\",\n",
    "                           edge_cmap=cmapse[::-1][i],width=2,ax=axs[cnt],arrowsize=40)\n",
    "    for k,v in pos.items():\n",
    "        v[1]+=np.sign(v[1])*0.1\n",
    "        v[0]+=np.sign(v[0])*0.2\n",
    "    nx.draw_networkx_labels(barynet,pos,verticalalignment='bottom',\n",
    "                            font_size=18,clip_on=False,ax=axs[cnt])\n",
    "    axs[cnt].axis('off')\n",
    "    cnt+=1\n",
    "    #plt.savefig(f'bary_{i}.pdf')\n",
    "fs.tight_layout()\n",
    "fs\n",
    "fs.savefig(\"../../Accordion_Experiments/Revision_Figure_Folder/ccis.pdf\")"
   ]
  },
  {
   "cell_type": "code",
   "execution_count": null,
   "id": "6b3619a9",
   "metadata": {},
   "outputs": [],
   "source": [
    "#tmaps.to_csv(\"../PDAC_Resuls_CC/tmaps.csv\")"
   ]
  },
  {
   "cell_type": "code",
   "execution_count": null,
   "id": "e883766f",
   "metadata": {},
   "outputs": [],
   "source": [
    "f,axs1 = plt.subplots(1,1,figsize=(6 ,5))\n",
    "sns.regplot(x=\"ctr->PDAC1\",y=\"PDAC1->PDAC2\",data=tmaps,fit_reg = False,\n",
    "           x_jitter = 0.001, y_jitter = 0.001, scatter_kws = {'alpha' : 1,'s':80},ax=axs1)\n",
    "n=10\n",
    "ssource = tmaps.loc[tmaps['source1']==tmaps['source2'],:].sort_values(\"ctr->PDAC1\",ascending=False)\n",
    "starget =  tmaps.loc[tmaps['target1']==tmaps['target2'],:].sort_values(\"PDAC1->PDAC2\",ascending=False)\n",
    "\n",
    "def ann(row):\n",
    "    r = row[1]\n",
    "    ind = r[\"index\"]\n",
    "    axs1.annotate(ind, xy=(r[\"ctr->PDAC1\"], r[\"PDAC1->PDAC2\"]), \n",
    "            xytext=(0.1,0.1) , textcoords =\"offset points\")\n",
    "\n",
    "for row in ssource.iterrows():\n",
    "    ann(row)\n",
    "for row in starget.iterrows():\n",
    "    ann(row)\n",
    "axs1.set_xlabel('CONTROL1 -> PDAC1')\n",
    "axs1.set_ylabel('PDAC1 -> PDAC2')\n",
    "f.savefig('../figs/tmap1.pdf')"
   ]
  },
  {
   "cell_type": "code",
   "execution_count": null,
   "id": "55cff244",
   "metadata": {},
   "outputs": [],
   "source": [
    "tmaps['selected'] = False"
   ]
  },
  {
   "cell_type": "code",
   "execution_count": null,
   "id": "39b3c22c",
   "metadata": {},
   "outputs": [],
   "source": [
    "tmaps['selected'][starget.index[0]] = True"
   ]
  },
  {
   "cell_type": "code",
   "execution_count": null,
   "id": "9dd132c9",
   "metadata": {},
   "outputs": [],
   "source": [
    "tmaps['selected'][ssource.index[6]] = True"
   ]
  },
  {
   "cell_type": "code",
   "execution_count": null,
   "id": "aec9d035",
   "metadata": {},
   "outputs": [],
   "source": [
    "f,axs1 = plt.subplots(1,1,figsize=(6 ,5))\n",
    "sns.regplot(x=\"ctr->PDAC1\",y=\"PDAC1->PDAC2\",data=tmaps,fit_reg = False,\n",
    "           x_jitter = 0.001, y_jitter = 0.001, scatter_kws = {'alpha' : 1,'s':80},ax=axs1)\n",
    "n=10\n",
    "ssource = tmaps.loc[tmaps['source1']==tmaps['source2'],:].sort_values(\"ctr->PDAC1\",ascending=False)\n",
    "starget =  tmaps.loc[tmaps['target1']==tmaps['target2'],:].sort_values(\"PDAC1->PDAC2\",ascending=False)\n",
    "\n",
    "def ann(row):\n",
    "    r = row[1]\n",
    "    ind = r[\"index\"]\n",
    "    if r['selected']:\n",
    "        axs1.annotate(ind, xy=(r[\"ctr->PDAC1\"], r[\"PDAC1->PDAC2\"]), \n",
    "                xytext=(0.1,0.1) , textcoords =\"offset points\")\n",
    "\n",
    "for row in ssource.iterrows():\n",
    "    ann(row)\n",
    "for row in starget.iterrows():\n",
    "    ann(row)\n",
    "axs1.set_xlabel('CONTROL1 -> PDAC1')\n",
    "axs1.set_ylabel('PDAC1 -> PDAC2')\n",
    "f.savefig('../figs/tmap1.pdf')"
   ]
  },
  {
   "cell_type": "code",
   "execution_count": null,
   "id": "92bac9cc",
   "metadata": {
    "scrolled": true
   },
   "outputs": [],
   "source": [
    "for i in ssource.iterrows():\n",
    "    plt.figure()\n",
    "    sns.scatterplot(x=i[1]['edge1'],y=i[1]['edge2'],\n",
    "                    data=Aaccdt.p.T,hue=tmplab[0:-3],\n",
    "                    palette=list(plt.cm.Set1.colors)[0:3],s=200,linewidth=0)\n",
    "    plt.suptitle('CTR->PDAC1 to PDAC1->PDAC2')\n",
    "    plt.savefig(f\"../figs/same_source_1-{i[1]['index']}.pdf\")\n",
    "for i in starget.iterrows():\n",
    "    plt.figure()\n",
    "    sns.scatterplot(x=i[1]['edge1'],y=i[1]['edge2'],\n",
    "                    data=Aaccdt.p.T,hue=tmplab[0:-3],\n",
    "                    palette=list(plt.cm.Set1.colors)[0:3],s=200,linewidth=0)\n",
    "    plt.suptitle('CTR->PDAC1 to PDAC1->PDAC2')\n",
    "    plt.savefig(f\"../figs/same_target_1-{i[1]['index']}.pdf\")"
   ]
  },
  {
   "cell_type": "code",
   "execution_count": null,
   "id": "e1cd1295",
   "metadata": {},
   "outputs": [],
   "source": [
    "ncls.flabels"
   ]
  },
  {
   "cell_type": "code",
   "execution_count": null,
   "id": "84ba3883",
   "metadata": {},
   "outputs": [],
   "source": [
    "lab = ['PDAC2',\"PDAC1\",\"CONTROL\"]"
   ]
  },
  {
   "cell_type": "code",
   "execution_count": null,
   "id": "c2a22907",
   "metadata": {},
   "outputs": [],
   "source": [
    "nlabels = {k:lab[v] for k,v in zip(Aaccdt.wdist['HTD_0.5'].index,ncls.flabels)}"
   ]
  },
  {
   "cell_type": "code",
   "execution_count": null,
   "id": "4c7f097e",
   "metadata": {},
   "outputs": [],
   "source": [
    "import scanpy as sc"
   ]
  },
  {
   "cell_type": "code",
   "execution_count": null,
   "id": "45bac8fb",
   "metadata": {},
   "outputs": [],
   "source": [
    "scadata = sc.read_h5ad(\"/home/james/icg/scRNA/Patients_scRNA/data/singlecell_processed/Peng_PDAC_processed.h5ad\")"
   ]
  },
  {
   "cell_type": "code",
   "execution_count": null,
   "id": "4a7ef4df",
   "metadata": {},
   "outputs": [],
   "source": [
    "scadata.obs['kbary'] = [nlabels[i] for i in scadata.obs['orig.ident']]"
   ]
  },
  {
   "cell_type": "code",
   "execution_count": null,
   "id": "335f584b",
   "metadata": {},
   "outputs": [],
   "source": [
    "scadata.obs.groupby(['kbary','accLabel']).size()"
   ]
  },
  {
   "cell_type": "code",
   "execution_count": null,
   "id": "911d65b9",
   "metadata": {},
   "outputs": [],
   "source": [
    "scadata.obs.groupby(['kbary','accLabel1']).size()"
   ]
  },
  {
   "cell_type": "code",
   "execution_count": null,
   "id": "15f365fe",
   "metadata": {},
   "outputs": [],
   "source": [
    "scadata.write_h5ad('PDAC_w_bary.h5ad')"
   ]
  },
  {
   "cell_type": "markdown",
   "id": "399a1e82",
   "metadata": {},
   "source": [
    "# "
   ]
  },
  {
   "cell_type": "code",
   "execution_count": null,
   "id": "8fdb770e",
   "metadata": {},
   "outputs": [],
   "source": [
    "sc.pl.umap(scadata,color='kbary')"
   ]
  },
  {
   "cell_type": "code",
   "execution_count": null,
   "id": "2690f068",
   "metadata": {},
   "outputs": [],
   "source": [
    "import liana as li"
   ]
  },
  {
   "cell_type": "code",
   "execution_count": null,
   "id": "4139d13e",
   "metadata": {},
   "outputs": [],
   "source": [
    "if not os.path.exists(\"../data/PDAC\"):\n",
    "    os.mkdir(\"../data/PDAC\")"
   ]
  },
  {
   "cell_type": "code",
   "execution_count": null,
   "id": "74554045",
   "metadata": {},
   "outputs": [],
   "source": [
    "for i in lab:\n",
    "    lr=li.method.cellphonedb(scadata[scadata.obs.kbary==i], \n",
    "                                  groupby='accAnnot', \n",
    "                                  expr_prop=0.15, \n",
    "                                  verbose=False,\n",
    "                                  resource_name='consensus',inplace=False,use_raw=False)\n",
    "    lr.to_csv(f\"../data/PDAC/lr_{i}.csv\")\n"
   ]
  },
  {
   "cell_type": "code",
   "execution_count": null,
   "id": "1d0d9e02",
   "metadata": {},
   "outputs": [],
   "source": [
    "import rpy2.robjects as ro\n",
    "from rpy2.robjects.packages import importr\n",
    "import rpy2.robjects.packages as rpackages\n",
    "from rpy2.robjects import pandas2ri\n",
    "#utils = rpackages.importr('utils')\n",
    "#devtools = utils.install_packages('devtools')\n",
    "d = {'package.dependencies': 'package_dot_dependencies',\n",
    "     'package_dependencies': 'package_uscore_dependencies'}\n",
    "ctker = importr('CrossTalkeR', \n",
    "           robject_translations = d)\n",
    "data = {}\n",
    "for i in os.listdir('../data/PDAC/'):\n",
    "    if i.startswith('lr') and i.endswith('csv'):\n",
    "        evfull = pd.read_csv('../data/PDAC/'+i)\n",
    "        evfull = evfull.loc[:,['ligand','receptor','source','target','lr_means','cellphone_pvals']]\n",
    "        evfull['type_gene_A'] = 'Ligand'\n",
    "        evfull['type_gene_B'] = 'Receptor'\n",
    "        evfull['gene_A'] = evfull['ligand']\n",
    "        evfull['gene_B'] = evfull['receptor']\n",
    "        evfull['MeanLR'] = evfull['lr_means']\n",
    "        k=i[i.find('|')+1:len(i)-4]\n",
    "        evfull.loc[list(evfull.cellphone_pvals.to_numpy()<=0.01),:].to_csv(f'../data/PDAC/ct_{i}')\n",
    "        data[k]=os.path.abspath(f'../data/PDAC/ct_{i}')\n",
    "an = ro.ListVector(data)"
   ]
  },
  {
   "cell_type": "code",
   "execution_count": null,
   "id": "2d3996f6",
   "metadata": {},
   "outputs": [],
   "source": [
    "if not os.path.exists(\"../data/PDAC/CTRL+\"):\n",
    "    os.mkdir(\"../data/PDAC/CTRL+\")"
   ]
  },
  {
   "cell_type": "code",
   "execution_count": null,
   "id": "13aa81fd",
   "metadata": {
    "scrolled": true
   },
   "outputs": [],
   "source": [
    "\n",
    "aux = ctker.generate_report(lrpaths=an.rx(ro.r(\"c('lr_CONTROL','lr_PDAC1','lr_PDAC2')\")),\n",
    "                out_path=\"/home/james/sciebo/Zenodo_scACCordion/data/PDAC/CTRL+\",threshold = 0,\n",
    "                out_file = 'control.html',\n",
    "                output_fmt = \"html_document\",\n",
    "                report=True,\n",
    "                org = 'hsa')\n"
   ]
  },
  {
   "cell_type": "code",
   "execution_count": null,
   "id": "c00bcef0",
   "metadata": {},
   "outputs": [],
   "source": [
    "if not os.path.exists(\"../data/PDAC/PDAC1vsPDAC2\"):\n",
    "    os.mkdir(\"../data/PDAC/PDAC1vsPDAC2\")"
   ]
  },
  {
   "cell_type": "code",
   "execution_count": null,
   "id": "d3a73769",
   "metadata": {},
   "outputs": [],
   "source": [
    "aux = ctker.generate_report(lrpaths=an.rx(ro.r(\"c('lr_PDAC2','lr_PDAC1')\")),\n",
    "                out_path=\"/home/james/sciebo/Zenodo_scACCordion/data/PDAC/PDAC1vsPDAC2\",\n",
    "                            threshold = 0,\n",
    "                out_file = 'control.html',\n",
    "                output_fmt = \"html_document\",\n",
    "                report=True,\n",
    "                org = 'hsa')"
   ]
  },
  {
   "cell_type": "code",
   "execution_count": null,
   "id": "c1990edd",
   "metadata": {},
   "outputs": [],
   "source": [
    "%load_ext rpy2.ipython\n"
   ]
  },
  {
   "cell_type": "code",
   "execution_count": null,
   "id": "031abece",
   "metadata": {},
   "outputs": [],
   "source": [
    "%%R\n",
    "require(CrossTalkeR)\n",
    "require(ggplot2)\n",
    "ctrpdac1 <- readRDS(\"../data/PDAC/CTRL+/LR_data_final.Rds\")\n",
    "ctrpdac2 <- readRDS(\"../data/PDAC/PDAC1vsPDAC2/LR_data_final.Rds\")\n"
   ]
  },
  {
   "cell_type": "code",
   "execution_count": null,
   "id": "506f5e8f",
   "metadata": {},
   "outputs": [],
   "source": [
    "%%R\n",
    "p1<-plot_sankey(ctrpdac1@tables$lr_PDAC1_x_lr_CONTROL,ligand_cluster='Ductal cell type 2',\n",
    "                                               receptor_cluster=\"Ductal cell type 1\",threshold=30)+\n",
    "                ggtitle(\"CTR->PDAC1\")\n",
    "p2<-plot_sankey(ctrpdac1@tables$lr_PDAC2_x_lr_CONTROL,ligand_cluster='Ductal cell type 2',\n",
    "                                               receptor_cluster=\"Ductal cell type 1\",threshold=30)+\n",
    "                ggtitle(\"CTR->PDAC2\")\n",
    "p3<-plot_sankey(ctrpdac2@tables$lr_PDAC1_x_lr_PDAC2,ligand_cluster='Ductal cell type 2',\n",
    "                                               receptor_cluster=\"Ductal cell type 1\",threshold=30)+\n",
    "                ggtitle(\"PDAC2->PDAC1\")\n",
    "p1+p2+p3\n",
    "ggsave(\"../figs/sankey/DCT22DCT1.pdf\",width=25,height=7)\n"
   ]
  },
  {
   "cell_type": "code",
   "execution_count": null,
   "id": "3d66bcf6-044a-4ad2-93b6-36b695562ea3",
   "metadata": {},
   "outputs": [],
   "source": [
    "%%R\n",
    "\n",
    "write.csv(ctrpdac2@tables$lr_PDAC1_x_lr_PDAC2, \"PDAC_differential.csv\")"
   ]
  },
  {
   "cell_type": "code",
   "execution_count": null,
   "id": "e6031b33",
   "metadata": {},
   "outputs": [],
   "source": [
    "%%R\n",
    "p1<-plot_sankey(ctrpdac1@tables$lr_PDAC1_x_lr_CONTROL,ligand_cluster='Macrophage cell',\n",
    "                                               receptor_cluster=\"Acinar cell\",threshold=20)+\n",
    "                ggtitle(\"CTR->PDAC1\")\n",
    "p2<-plot_sankey(ctrpdac1@tables$lr_PDAC2_x_lr_CONTROL,ligand_cluster='Macrophage cell',\n",
    "                                               receptor_cluster=\"Acinar cell\",threshold=20)+\n",
    "                ggtitle(\"CTR->PDAC2\")\n",
    "\n",
    "p1+p2\n",
    "ggsave(\"../figs/sankey/Mac2Acinar_top5.pdf\",width=25,height=7)"
   ]
  },
  {
   "cell_type": "code",
   "execution_count": null,
   "id": "64fc72cf-9e36-4e7e-a07d-dce6610f6f88",
   "metadata": {},
   "outputs": [],
   "source": [
    "%%R\n",
    "\n",
    "pdac1 <- ctrpdac2@tables$lr_PDAC1 |>\n",
    "    dplyr::filter(cellpair %in% c(\"Ductal cell type 2@Ductal cell type 1\")) |>\n",
    "    dplyr::mutate(lrpair=paste(ligand,receptor,sep=\"@\")) |>\n",
    "    dplyr::select(lrpair, LRScore)\n",
    "pdac2 <- ctrpdac2@tables$lr_PDAC2 |>\n",
    "    dplyr::filter(cellpair %in% c(\"Ductal cell type 2@Ductal cell type 1\")) |>\n",
    "    dplyr::mutate(lrpair=paste(ligand,receptor,sep=\"@\")) |>\n",
    "    dplyr::select(lrpair, LRScore)\n",
    "\n",
    "finaldf<-merge(pdac1,pdac2,by='lrpair',all=T)\n",
    "finaldf[is.na(finaldf)]<-0\n",
    "colnames(finaldf)<-c(\"LRpair\",\"PDAC1\",\"PDAC2\")\n",
    "write.csv(finaldf,\"../data/PDAC_pairs.csv\")"
   ]
  },
  {
   "cell_type": "code",
   "execution_count": null,
   "id": "e8f69b77-8221-49e3-85bd-d9f186a3b6e4",
   "metadata": {},
   "outputs": [],
   "source": [
    "import liana as li\n",
    "import omnipath as op\n",
    "import decoupler as dc"
   ]
  },
  {
   "cell_type": "code",
   "execution_count": null,
   "id": "9aa0befa-37d8-44ab-ae21-89688a93da4f",
   "metadata": {},
   "outputs": [],
   "source": [
    "net = dc.get_progeny(organism='human', top=5000)\n",
    "lr_pairs = li.resource.select_resource('consensus')\n",
    "lr_progeny = li.rs.generate_lr_geneset(lr_pairs, net, lr_sep=\"@\")\n",
    "lr_progeny.head()\n",
    "lr = pd.read_csv(\"../data/PDAC_pairs.csv\",index_col=0)"
   ]
  },
  {
   "cell_type": "code",
   "execution_count": null,
   "id": "93fd156b-4ea2-4f9b-a317-5e9f2aa21dd0",
   "metadata": {},
   "outputs": [],
   "source": [
    "lr.set_index(\"LRpair\", inplace=True)\n",
    "lr=lr.loc[lr.index.duplicated()!=True,:]"
   ]
  },
  {
   "cell_type": "code",
   "execution_count": null,
   "id": "5704a034-6ddf-420f-b681-662c6f133bb7",
   "metadata": {},
   "outputs": [],
   "source": [
    "estimate, pvals = dc.run_ulm(lr.transpose(), lr_progeny, source=\"source\", target=\"interaction\", use_raw=False)"
   ]
  },
  {
   "cell_type": "code",
   "execution_count": null,
   "id": "08ea76de-affd-440b-8001-78c43c4efaee",
   "metadata": {},
   "outputs": [],
   "source": [
    "dc.plot_barplot(estimate, 'PDAC1', vertical=True, cmap='coolwarm', vmin=-7, vmax=7)\n",
    "plt.tight_layout()\n",
    "plt.title('PDAC1')\n",
    "plt.savefig(\"../../Accordion_Experiments/Revision_Figure_Folder/PDAC1_ctker.pdf\")"
   ]
  },
  {
   "cell_type": "code",
   "execution_count": null,
   "id": "2a192ebf-8e23-479f-8fbf-30406a4d1b36",
   "metadata": {},
   "outputs": [],
   "source": [
    "dc.plot_barplot(estimate, 'PDAC2', vertical=True, cmap='coolwarm', vmin=-7, vmax=7)\n",
    "plt.tight_layout()\n",
    "plt.title('PDAC2')\n",
    "plt.savefig(\"../../Accordion_Experiments/Revision_Figure_Folder/PDAC2_ctker.pdf\")"
   ]
  },
  {
   "cell_type": "code",
   "execution_count": null,
   "id": "d984d8fc",
   "metadata": {},
   "outputs": [],
   "source": [
    "sc.pl.violin(scadata[scadata.obs.accAnnot=='Ductal cell type 2'],keys=['MMP7'],\n",
    "             groupby='kbary',stripplot=False,save=True)\n",
    "#plt.savefig('../PDAC_Resuls_CC/violin1.pdf')"
   ]
  },
  {
   "cell_type": "code",
   "execution_count": null,
   "id": "bb30c4a0",
   "metadata": {},
   "outputs": [],
   "source": [
    "sc.pl.violin(scadata[scadata.obs.accAnnot=='Ductal cell type 1'],keys=['SDC1'],\n",
    "             groupby='kbary',stripplot=False,save=True)"
   ]
  },
  {
   "cell_type": "code",
   "execution_count": null,
   "id": "b6ddb034",
   "metadata": {},
   "outputs": [],
   "source": [
    "p1=sns.scatterplot(x=\"PDAC1\",y=\"PDAC2\",data=estimate.T)\n",
    "for line in range(0,estimate.T.shape[0]):\n",
    "     p1.text(estimate.T[\"PDAC1\"][line]+0.01, estimate.T[\"PDAC2\"][line], \n",
    "     estimate.T.index[line], horizontalalignment='left', \n",
    "     size='medium', color='black')\n",
    "plt.axline((-3,-3),(3,3),linestyle='--')\n",
    "plt.xlim(-2,3)\n",
    "plt.ylim(-2,3)\n",
    "plt.title(\"Progeny Pathway Activity Score\")\n",
    "plt.tight_layout()\n",
    "plt.savefig(\"../../Accordion_Experiments/Revision_Figure_Folder/PDAC_progeny.pdf\")"
   ]
  },
  {
   "cell_type": "code",
   "execution_count": null,
   "id": "d6426db4-1eaa-464b-a559-6c08d3a4de5b",
   "metadata": {},
   "outputs": [],
   "source": [
    "lr_progeny[lr_progeny.interaction.str.startswith(\"MMP7\")].sort_values(\"weight\",ascending=False).groupby(\"source\").size()"
   ]
  },
  {
   "cell_type": "code",
   "execution_count": null,
   "id": "a7ff37de-696b-4920-83da-8365e78fa4f6",
   "metadata": {},
   "outputs": [],
   "source": [
    "lr_progeny[lr_progeny.interaction.str.endswith(\"SDC1\")].sort_values(\"weight\",ascending=False).groupby(\"source\").size()"
   ]
  },
  {
   "cell_type": "code",
   "execution_count": null,
   "id": "16807caf-01e0-4850-a057-d94d3dc2accc",
   "metadata": {},
   "outputs": [],
   "source": [
    "lr_progeny[lr_progeny.interaction.str.endswith(\"CD44\")].sort_values(\"weight\",ascending=False).groupby(\"source\").size()"
   ]
  },
  {
   "cell_type": "code",
   "execution_count": null,
   "id": "8d986fab-e60f-4598-967c-91780f36a367",
   "metadata": {},
   "outputs": [],
   "source": [
    "lr_progeny[lr_progeny.interaction.str.startswith(\"SPP1\")].sort_values(\"weight\",ascending=False).groupby(\"source\").size()"
   ]
  }
 ],
 "metadata": {
  "kernelspec": {
   "display_name": "Python 3 (ipykernel)",
   "language": "python",
   "name": "python3"
  },
  "language_info": {
   "codemirror_mode": {
    "name": "ipython",
    "version": 3
   },
   "file_extension": ".py",
   "mimetype": "text/x-python",
   "name": "python",
   "nbconvert_exporter": "python",
   "pygments_lexer": "ipython3",
   "version": "3.10.12"
  }
 },
 "nbformat": 4,
 "nbformat_minor": 5
}
