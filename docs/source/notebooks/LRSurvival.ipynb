{
 "cells": [
  {
   "cell_type": "markdown",
   "id": "edbcc209-da2c-41f1-b5e8-3f6b271591a7",
   "metadata": {},
   "source": [
    "## Ligand Receptor Interaction Survival Analysis "
   ]
  },
  {
   "cell_type": "markdown",
   "id": "1db8d936-88fd-4e7a-8702-10b098e82553",
   "metadata": {},
   "source": [
    "By Tiago Maié and James Nagai\n",
    "\n",
    "Here we introduce the survival model analysis used to the orthogonal validation of the scACCorDiON subcluters."
   ]
  },
  {
   "cell_type": "markdown",
   "id": "b663b3ce-43f1-46a0-97ba-24a1e7217366",
   "metadata": {},
   "source": [
    "### For installing the R package use\n",
    "```{r}\n",
    "pak::pak(\"CostaLab/scACCorDiON.su\")\n",
    "```"
   ]
  },
  {
   "cell_type": "code",
   "execution_count": 1,
   "id": "eb7b38f8-49e5-43be-9337-44019d0bbcc9",
   "metadata": {},
   "outputs": [
    {
     "name": "stderr",
     "output_type": "stream",
     "text": [
      "---------------------------------\n",
      "scACCorDiON.su version 0.0.0.9000\n",
      "---------------------------------\n",
      "\n"
     ]
    }
   ],
   "source": [
    "library(scACCorDiON.su)\n",
    "library(IRdisplay) ## Tables rendering \n",
    "library(reactable) ## Tables display\n"
   ]
  },
  {
   "cell_type": "markdown",
   "id": "1eb33e81-e9bc-456c-8be7-018076a65a9a",
   "metadata": {},
   "source": [
    "### Loading the data used in the PDAC experiment"
   ]
  },
  {
   "cell_type": "code",
   "execution_count": 2,
   "id": "80b20aab-4901-4c76-900a-8dc966b985a5",
   "metadata": {},
   "outputs": [],
   "source": [
    "data(pdac_cci_data)\n",
    "data(paad_tcga_clinical_data) ## TCGA data\n",
    "data(paad_tcga_expression_data) ## TCGA data\n",
    "data(comparison_of_interest) ## Here he have the desired interaction"
   ]
  },
  {
   "cell_type": "markdown",
   "id": "3027d128-58a7-48b1-a069-3daf6abd0d32",
   "metadata": {},
   "source": [
    "### Interaction: DCT2 and DCT1 were renamed in the paper for the readability, Malignant Ductal and Ductal cell, respectivelly"
   ]
  },
  {
   "cell_type": "code",
   "execution_count": 3,
   "id": "6f879cf4-870d-4a56-a320-df75c35bd51e",
   "metadata": {},
   "outputs": [
    {
     "data": {
      "text/html": [
       "'Ductal.cell.type.2_Ductal.cell.type.1'"
      ],
      "text/latex": [
       "'Ductal.cell.type.2\\_Ductal.cell.type.1'"
      ],
      "text/markdown": [
       "'Ductal.cell.type.2_Ductal.cell.type.1'"
      ],
      "text/plain": [
       "[1] \"Ductal.cell.type.2_Ductal.cell.type.1\""
      ]
     },
     "metadata": {},
     "output_type": "display_data"
    }
   ],
   "source": [
    "comparison_of_interest"
   ]
  },
  {
   "cell_type": "markdown",
   "id": "3fcba039-2c4f-42fa-8b8a-b15ea7f4469f",
   "metadata": {},
   "source": [
    "### Reading CrossTalkeR sankey data (Supp. Fig. 8)"
   ]
  },
  {
   "cell_type": "markdown",
   "id": "7804f610-8238-4c11-9520-04d24aa4e0fb",
   "metadata": {},
   "source": [
    "Here we can supply ligand receptor interactions for the PDAC data"
   ]
  },
  {
   "cell_type": "code",
   "execution_count": 4,
   "id": "0aff8a4a-6204-4325-8ef4-95ac12f790f5",
   "metadata": {},
   "outputs": [],
   "source": [
    "lrsankey <- read.csv(\"../../../scaccordion/data/PDAC_differential.csv\")"
   ]
  },
  {
   "cell_type": "markdown",
   "id": "09165c4c-c19e-4582-a4e0-137b4b2ef87a",
   "metadata": {},
   "source": [
    "*Note:* table must be names as the example below"
   ]
  },
  {
   "cell_type": "code",
   "execution_count": 5,
   "id": "fb285c5e-28e9-437a-b741-f2e7d61c5d53",
   "metadata": {},
   "outputs": [
    {
     "data": {
      "text/html": [
       "<table class=\"dataframe\">\n",
       "<caption>A data.frame: 6 × 5</caption>\n",
       "<thead>\n",
       "\t<tr><th></th><th scope=col>source</th><th scope=col>target</th><th scope=col>gene_A</th><th scope=col>gene_B</th><th scope=col>LRScore</th></tr>\n",
       "\t<tr><th></th><th scope=col>&lt;chr&gt;</th><th scope=col>&lt;chr&gt;</th><th scope=col>&lt;chr&gt;</th><th scope=col>&lt;chr&gt;</th><th scope=col>&lt;dbl&gt;</th></tr>\n",
       "</thead>\n",
       "<tbody>\n",
       "\t<tr><th scope=row>1</th><td>Ductal cell type 2</td><td>Macrophage cell</td><td>B2M|L </td><td>CD1C|R  </td><td>-2.578362</td></tr>\n",
       "\t<tr><th scope=row>2</th><td>Endocrine cell    </td><td>B cell         </td><td>INS|L </td><td>LILRB1|R</td><td>-2.548423</td></tr>\n",
       "\t<tr><th scope=row>3</th><td>Ductal cell type 2</td><td>B cell         </td><td>B2M|L </td><td>CD1C|R  </td><td>-2.495319</td></tr>\n",
       "\t<tr><th scope=row>4</th><td>B cell            </td><td>B cell         </td><td>APP|L </td><td>CD74|R  </td><td>-2.422047</td></tr>\n",
       "\t<tr><th scope=row>5</th><td>B cell            </td><td>B cell         </td><td>COPA|L</td><td>CD74|R  </td><td>-2.386160</td></tr>\n",
       "\t<tr><th scope=row>6</th><td>T cell            </td><td>B cell         </td><td>COPA|L</td><td>CD74|R  </td><td>-2.381791</td></tr>\n",
       "</tbody>\n",
       "</table>\n"
      ],
      "text/latex": [
       "A data.frame: 6 × 5\n",
       "\\begin{tabular}{r|lllll}\n",
       "  & source & target & gene\\_A & gene\\_B & LRScore\\\\\n",
       "  & <chr> & <chr> & <chr> & <chr> & <dbl>\\\\\n",
       "\\hline\n",
       "\t1 & Ductal cell type 2 & Macrophage cell & B2M\\textbar{}L  & CD1C\\textbar{}R   & -2.578362\\\\\n",
       "\t2 & Endocrine cell     & B cell          & INS\\textbar{}L  & LILRB1\\textbar{}R & -2.548423\\\\\n",
       "\t3 & Ductal cell type 2 & B cell          & B2M\\textbar{}L  & CD1C\\textbar{}R   & -2.495319\\\\\n",
       "\t4 & B cell             & B cell          & APP\\textbar{}L  & CD74\\textbar{}R   & -2.422047\\\\\n",
       "\t5 & B cell             & B cell          & COPA\\textbar{}L & CD74\\textbar{}R   & -2.386160\\\\\n",
       "\t6 & T cell             & B cell          & COPA\\textbar{}L & CD74\\textbar{}R   & -2.381791\\\\\n",
       "\\end{tabular}\n"
      ],
      "text/markdown": [
       "\n",
       "A data.frame: 6 × 5\n",
       "\n",
       "| <!--/--> | source &lt;chr&gt; | target &lt;chr&gt; | gene_A &lt;chr&gt; | gene_B &lt;chr&gt; | LRScore &lt;dbl&gt; |\n",
       "|---|---|---|---|---|---|\n",
       "| 1 | Ductal cell type 2 | Macrophage cell | B2M|L  | CD1C|R   | -2.578362 |\n",
       "| 2 | Endocrine cell     | B cell          | INS|L  | LILRB1|R | -2.548423 |\n",
       "| 3 | Ductal cell type 2 | B cell          | B2M|L  | CD1C|R   | -2.495319 |\n",
       "| 4 | B cell             | B cell          | APP|L  | CD74|R   | -2.422047 |\n",
       "| 5 | B cell             | B cell          | COPA|L | CD74|R   | -2.386160 |\n",
       "| 6 | T cell             | B cell          | COPA|L | CD74|R   | -2.381791 |\n",
       "\n"
      ],
      "text/plain": [
       "  source             target          gene_A gene_B   LRScore  \n",
       "1 Ductal cell type 2 Macrophage cell B2M|L  CD1C|R   -2.578362\n",
       "2 Endocrine cell     B cell          INS|L  LILRB1|R -2.548423\n",
       "3 Ductal cell type 2 B cell          B2M|L  CD1C|R   -2.495319\n",
       "4 B cell             B cell          APP|L  CD74|R   -2.422047\n",
       "5 B cell             B cell          COPA|L CD74|R   -2.386160\n",
       "6 T cell             B cell          COPA|L CD74|R   -2.381791"
      ]
     },
     "metadata": {},
     "output_type": "display_data"
    }
   ],
   "source": [
    "head(lrsankey[,c(\"source\",\"target\",\"gene_A\",\"gene_B\",\"LRScore\")]) "
   ]
  },
  {
   "cell_type": "markdown",
   "id": "f5de321e-fa68-4fcc-aa27-0bc0555c06f3",
   "metadata": {},
   "source": [
    "## Preparing the data from the sankey plot to perform survival analysis(Table 4)"
   ]
  },
  {
   "cell_type": "markdown",
   "id": "29de08c3-004b-420e-a419-7dca3abcfefc",
   "metadata": {},
   "source": [
    "Here, the data is prepared to be used in the **run_survival** funtion. We first select the source and target interaction. Second, HLA genes are filtered. Finally, we filter the overlapping communication gened and select the top 10"
   ]
  },
  {
   "cell_type": "code",
   "execution_count": 6,
   "id": "d7f6ba7d-9e6b-4961-881c-f60dc8429108",
   "metadata": {},
   "outputs": [],
   "source": [
    "pairs <- lrsankey |>\n",
    "            dplyr::filter(grepl(\"Ductal cell type 2\",source))|>\n",
    "            dplyr::filter(grepl(\"Ductal cell type 1\",target)) |>\n",
    "            dplyr::filter(!grepl(\"HLA-\",gene_A)) |>\n",
    "            dplyr::mutate(ligand=gsub(\"\\\\|L\",\"\",gene_A)) |>\n",
    "            dplyr::mutate(receptor=gsub(\"\\\\|R\",\"\",gene_B)) |>\n",
    "        \tdplyr::filter(ligand %in% paad_tcga_expression_data$symbol) |>\n",
    "        \tdplyr::filter(receptor %in% paad_tcga_expression_data$symbol) |>\n",
    "            dplyr::slice_max(n=10,order_by = LRScore,with_ties = FALSE) |>\n",
    "            dplyr::select(ligand,receptor)"
   ]
  },
  {
   "cell_type": "markdown",
   "id": "34bb46bf-5ac9-4e9b-b71d-c834cf61bec1",
   "metadata": {},
   "source": [
    "Once this analysis were dont comparing PDAC2_x_PDAC1 the highest LRscores are associated to interactions that are highly expressed in PDAC1"
   ]
  },
  {
   "cell_type": "markdown",
   "id": "6c84aeab-8935-4dd9-8207-5ffa0fd57692",
   "metadata": {},
   "source": [
    "### LR Survival"
   ]
  },
  {
   "cell_type": "code",
   "execution_count": 7,
   "id": "b9707f6b-d917-4eb3-885e-c4b07de34704",
   "metadata": {},
   "outputs": [
    {
     "data": {
      "text/html": [
       "<table class=\"dataframe\">\n",
       "<caption>A tibble: 13 × 6</caption>\n",
       "<thead>\n",
       "\t<tr><th scope=col>term</th><th scope=col>estimate</th><th scope=col>std.error</th><th scope=col>statistic</th><th scope=col>p.value</th><th scope=col>issignif</th></tr>\n",
       "\t<tr><th scope=col>&lt;chr&gt;</th><th scope=col>&lt;dbl&gt;</th><th scope=col>&lt;dbl&gt;</th><th scope=col>&lt;dbl&gt;</th><th scope=col>&lt;dbl&gt;</th><th scope=col>&lt;lgl&gt;</th></tr>\n",
       "</thead>\n",
       "<tbody>\n",
       "\t<tr><td>C3_CD81       </td><td> 0.68281413</td><td>0.2405836</td><td> 2.83815732</td><td>0.004537481</td><td> TRUE</td></tr>\n",
       "\t<tr><td>MMP7_SDC1     </td><td> 0.34164611</td><td>0.1228055</td><td> 2.78201000</td><td>0.005402338</td><td> TRUE</td></tr>\n",
       "\t<tr><td>CD99_CD81     </td><td>-0.85402299</td><td>0.3603318</td><td>-2.37010188</td><td>0.017783184</td><td> TRUE</td></tr>\n",
       "\t<tr><td>TIMP1_FGFR2   </td><td>-0.35078021</td><td>0.1691310</td><td>-2.07401532</td><td>0.038077889</td><td> TRUE</td></tr>\n",
       "\t<tr><td>S100A4_ERBB3  </td><td> 0.19078558</td><td>0.1240457</td><td> 1.53802602</td><td>0.124042254</td><td>FALSE</td></tr>\n",
       "\t<tr><td>TIMP1_CD63    </td><td>-0.35190580</td><td>0.2511306</td><td>-1.40128581</td><td>0.161128624</td><td>FALSE</td></tr>\n",
       "\t<tr><td>COPA_CD74     </td><td>-0.45817603</td><td>0.4770598</td><td>-0.96041631</td><td>0.336845731</td><td>FALSE</td></tr>\n",
       "\t<tr><td>LAMB2_RPSA    </td><td>-0.28067665</td><td>0.3610970</td><td>-0.77728880</td><td>0.436988400</td><td>FALSE</td></tr>\n",
       "\t<tr><td>stageStage_IV </td><td>-0.40601192</td><td>0.8660926</td><td>-0.46878582</td><td>0.639222740</td><td>FALSE</td></tr>\n",
       "\t<tr><td>APP_CD74      </td><td>-0.20686761</td><td>0.4565172</td><td>-0.45314309</td><td>0.650445706</td><td>FALSE</td></tr>\n",
       "\t<tr><td>stageStage_II </td><td>-0.14341841</td><td>0.4416047</td><td>-0.32476646</td><td>0.745357834</td><td>FALSE</td></tr>\n",
       "\t<tr><td>stageStage_III</td><td>-0.34404905</td><td>1.0930201</td><td>-0.31476918</td><td>0.752936915</td><td>FALSE</td></tr>\n",
       "\t<tr><td>LGALS3BP_ITGB1</td><td>-0.01067805</td><td>0.3099802</td><td>-0.03444753</td><td>0.972520284</td><td>FALSE</td></tr>\n",
       "</tbody>\n",
       "</table>\n"
      ],
      "text/latex": [
       "A tibble: 13 × 6\n",
       "\\begin{tabular}{llllll}\n",
       " term & estimate & std.error & statistic & p.value & issignif\\\\\n",
       " <chr> & <dbl> & <dbl> & <dbl> & <dbl> & <lgl>\\\\\n",
       "\\hline\n",
       "\t C3\\_CD81        &  0.68281413 & 0.2405836 &  2.83815732 & 0.004537481 &  TRUE\\\\\n",
       "\t MMP7\\_SDC1      &  0.34164611 & 0.1228055 &  2.78201000 & 0.005402338 &  TRUE\\\\\n",
       "\t CD99\\_CD81      & -0.85402299 & 0.3603318 & -2.37010188 & 0.017783184 &  TRUE\\\\\n",
       "\t TIMP1\\_FGFR2    & -0.35078021 & 0.1691310 & -2.07401532 & 0.038077889 &  TRUE\\\\\n",
       "\t S100A4\\_ERBB3   &  0.19078558 & 0.1240457 &  1.53802602 & 0.124042254 & FALSE\\\\\n",
       "\t TIMP1\\_CD63     & -0.35190580 & 0.2511306 & -1.40128581 & 0.161128624 & FALSE\\\\\n",
       "\t COPA\\_CD74      & -0.45817603 & 0.4770598 & -0.96041631 & 0.336845731 & FALSE\\\\\n",
       "\t LAMB2\\_RPSA     & -0.28067665 & 0.3610970 & -0.77728880 & 0.436988400 & FALSE\\\\\n",
       "\t stageStage\\_IV  & -0.40601192 & 0.8660926 & -0.46878582 & 0.639222740 & FALSE\\\\\n",
       "\t APP\\_CD74       & -0.20686761 & 0.4565172 & -0.45314309 & 0.650445706 & FALSE\\\\\n",
       "\t stageStage\\_II  & -0.14341841 & 0.4416047 & -0.32476646 & 0.745357834 & FALSE\\\\\n",
       "\t stageStage\\_III & -0.34404905 & 1.0930201 & -0.31476918 & 0.752936915 & FALSE\\\\\n",
       "\t LGALS3BP\\_ITGB1 & -0.01067805 & 0.3099802 & -0.03444753 & 0.972520284 & FALSE\\\\\n",
       "\\end{tabular}\n"
      ],
      "text/markdown": [
       "\n",
       "A tibble: 13 × 6\n",
       "\n",
       "| term &lt;chr&gt; | estimate &lt;dbl&gt; | std.error &lt;dbl&gt; | statistic &lt;dbl&gt; | p.value &lt;dbl&gt; | issignif &lt;lgl&gt; |\n",
       "|---|---|---|---|---|---|\n",
       "| C3_CD81        |  0.68281413 | 0.2405836 |  2.83815732 | 0.004537481 |  TRUE |\n",
       "| MMP7_SDC1      |  0.34164611 | 0.1228055 |  2.78201000 | 0.005402338 |  TRUE |\n",
       "| CD99_CD81      | -0.85402299 | 0.3603318 | -2.37010188 | 0.017783184 |  TRUE |\n",
       "| TIMP1_FGFR2    | -0.35078021 | 0.1691310 | -2.07401532 | 0.038077889 |  TRUE |\n",
       "| S100A4_ERBB3   |  0.19078558 | 0.1240457 |  1.53802602 | 0.124042254 | FALSE |\n",
       "| TIMP1_CD63     | -0.35190580 | 0.2511306 | -1.40128581 | 0.161128624 | FALSE |\n",
       "| COPA_CD74      | -0.45817603 | 0.4770598 | -0.96041631 | 0.336845731 | FALSE |\n",
       "| LAMB2_RPSA     | -0.28067665 | 0.3610970 | -0.77728880 | 0.436988400 | FALSE |\n",
       "| stageStage_IV  | -0.40601192 | 0.8660926 | -0.46878582 | 0.639222740 | FALSE |\n",
       "| APP_CD74       | -0.20686761 | 0.4565172 | -0.45314309 | 0.650445706 | FALSE |\n",
       "| stageStage_II  | -0.14341841 | 0.4416047 | -0.32476646 | 0.745357834 | FALSE |\n",
       "| stageStage_III | -0.34404905 | 1.0930201 | -0.31476918 | 0.752936915 | FALSE |\n",
       "| LGALS3BP_ITGB1 | -0.01067805 | 0.3099802 | -0.03444753 | 0.972520284 | FALSE |\n",
       "\n"
      ],
      "text/plain": [
       "   term           estimate    std.error statistic   p.value     issignif\n",
       "1  C3_CD81         0.68281413 0.2405836  2.83815732 0.004537481  TRUE   \n",
       "2  MMP7_SDC1       0.34164611 0.1228055  2.78201000 0.005402338  TRUE   \n",
       "3  CD99_CD81      -0.85402299 0.3603318 -2.37010188 0.017783184  TRUE   \n",
       "4  TIMP1_FGFR2    -0.35078021 0.1691310 -2.07401532 0.038077889  TRUE   \n",
       "5  S100A4_ERBB3    0.19078558 0.1240457  1.53802602 0.124042254 FALSE   \n",
       "6  TIMP1_CD63     -0.35190580 0.2511306 -1.40128581 0.161128624 FALSE   \n",
       "7  COPA_CD74      -0.45817603 0.4770598 -0.96041631 0.336845731 FALSE   \n",
       "8  LAMB2_RPSA     -0.28067665 0.3610970 -0.77728880 0.436988400 FALSE   \n",
       "9  stageStage_IV  -0.40601192 0.8660926 -0.46878582 0.639222740 FALSE   \n",
       "10 APP_CD74       -0.20686761 0.4565172 -0.45314309 0.650445706 FALSE   \n",
       "11 stageStage_II  -0.14341841 0.4416047 -0.32476646 0.745357834 FALSE   \n",
       "12 stageStage_III -0.34404905 1.0930201 -0.31476918 0.752936915 FALSE   \n",
       "13 LGALS3BP_ITGB1 -0.01067805 0.3099802 -0.03444753 0.972520284 FALSE   "
      ]
     },
     "metadata": {},
     "output_type": "display_data"
    }
   ],
   "source": [
    "results <-\n",
    "  run_survival(\n",
    "    comparison_oi = comparison_of_interest,\n",
    "    lr_data = pdac_cci_data,\n",
    "    tcga_exp_data = paad_tcga_expression_data,\n",
    "    tcga_clinical_data = paad_tcga_clinical_data,\n",
    "    selection_method = c(\"limma\"),\n",
    "    custom_selection = pairs,\n",
    "    n_lr_selected = 10,\n",
    "    which_get = c(\"ligand\", \"receptor\"),\n",
    "    is_signif = TRUE,\n",
    "    clinical_vars_in_model = c(\"stage\")\n",
    "  )\n",
    "#> Warning: Zero sample variances detected, have been offset away from zero\n",
    "results$cox_models$coxph_clinical.lr_pairs |>\n",
    "  broom::tidy() |>\n",
    "  dplyr::mutate(issignif=p.value<0.05) |>\n",
    "  dplyr::arrange(p.value)"
   ]
  },
  {
   "cell_type": "markdown",
   "id": "a60bc10f-e04d-4533-8fad-ff6a4a5c5e78",
   "metadata": {},
   "source": [
    "### Ligand only survival"
   ]
  },
  {
   "cell_type": "code",
   "execution_count": 8,
   "id": "45f063ce-617b-4ab5-836f-e2293f4e704e",
   "metadata": {},
   "outputs": [
    {
     "data": {
      "text/html": [
       "<table class=\"dataframe\">\n",
       "<caption>A tibble: 12 × 6</caption>\n",
       "<thead>\n",
       "\t<tr><th scope=col>term</th><th scope=col>estimate</th><th scope=col>std.error</th><th scope=col>statistic</th><th scope=col>p.value</th><th scope=col>issignif</th></tr>\n",
       "\t<tr><th scope=col>&lt;chr&gt;</th><th scope=col>&lt;dbl&gt;</th><th scope=col>&lt;dbl&gt;</th><th scope=col>&lt;dbl&gt;</th><th scope=col>&lt;dbl&gt;</th><th scope=col>&lt;lgl&gt;</th></tr>\n",
       "</thead>\n",
       "<tbody>\n",
       "\t<tr><td>MMP7          </td><td> 0.15541109</td><td>0.07010018</td><td> 2.2169857</td><td>0.02662407</td><td> TRUE</td></tr>\n",
       "\t<tr><td>TIMP1         </td><td>-0.42764750</td><td>0.19417184</td><td>-2.2024178</td><td>0.02763581</td><td> TRUE</td></tr>\n",
       "\t<tr><td>C3            </td><td> 0.18124162</td><td>0.11222101</td><td> 1.6150418</td><td>0.10630165</td><td>FALSE</td></tr>\n",
       "\t<tr><td>LAMB2         </td><td>-0.35228823</td><td>0.25350917</td><td>-1.3896469</td><td>0.16463612</td><td>FALSE</td></tr>\n",
       "\t<tr><td>S100A4        </td><td> 0.10312685</td><td>0.07768648</td><td> 1.3274749</td><td>0.18435162</td><td>FALSE</td></tr>\n",
       "\t<tr><td>CD99          </td><td>-0.23579445</td><td>0.22318141</td><td>-1.0565147</td><td>0.29073312</td><td>FALSE</td></tr>\n",
       "\t<tr><td>COPA          </td><td>-0.12465043</td><td>0.35093778</td><td>-0.3551924</td><td>0.72244547</td><td>FALSE</td></tr>\n",
       "\t<tr><td>LGALS3BP      </td><td>-0.05654436</td><td>0.21479237</td><td>-0.2632513</td><td>0.79235693</td><td>FALSE</td></tr>\n",
       "\t<tr><td>stageStage_II </td><td> 0.08568917</td><td>0.45425232</td><td> 0.1886378</td><td>0.85037668</td><td>FALSE</td></tr>\n",
       "\t<tr><td>stageStage_III</td><td>-0.15243887</td><td>1.08546592</td><td>-0.1404363</td><td>0.88831524</td><td>FALSE</td></tr>\n",
       "\t<tr><td>APP           </td><td> 0.03127909</td><td>0.27363357</td><td> 0.1143102</td><td>0.90899194</td><td>FALSE</td></tr>\n",
       "\t<tr><td>stageStage_IV </td><td> 0.09040131</td><td>0.86870068</td><td> 0.1040650</td><td>0.91711779</td><td>FALSE</td></tr>\n",
       "</tbody>\n",
       "</table>\n"
      ],
      "text/latex": [
       "A tibble: 12 × 6\n",
       "\\begin{tabular}{llllll}\n",
       " term & estimate & std.error & statistic & p.value & issignif\\\\\n",
       " <chr> & <dbl> & <dbl> & <dbl> & <dbl> & <lgl>\\\\\n",
       "\\hline\n",
       "\t MMP7           &  0.15541109 & 0.07010018 &  2.2169857 & 0.02662407 &  TRUE\\\\\n",
       "\t TIMP1          & -0.42764750 & 0.19417184 & -2.2024178 & 0.02763581 &  TRUE\\\\\n",
       "\t C3             &  0.18124162 & 0.11222101 &  1.6150418 & 0.10630165 & FALSE\\\\\n",
       "\t LAMB2          & -0.35228823 & 0.25350917 & -1.3896469 & 0.16463612 & FALSE\\\\\n",
       "\t S100A4         &  0.10312685 & 0.07768648 &  1.3274749 & 0.18435162 & FALSE\\\\\n",
       "\t CD99           & -0.23579445 & 0.22318141 & -1.0565147 & 0.29073312 & FALSE\\\\\n",
       "\t COPA           & -0.12465043 & 0.35093778 & -0.3551924 & 0.72244547 & FALSE\\\\\n",
       "\t LGALS3BP       & -0.05654436 & 0.21479237 & -0.2632513 & 0.79235693 & FALSE\\\\\n",
       "\t stageStage\\_II  &  0.08568917 & 0.45425232 &  0.1886378 & 0.85037668 & FALSE\\\\\n",
       "\t stageStage\\_III & -0.15243887 & 1.08546592 & -0.1404363 & 0.88831524 & FALSE\\\\\n",
       "\t APP            &  0.03127909 & 0.27363357 &  0.1143102 & 0.90899194 & FALSE\\\\\n",
       "\t stageStage\\_IV  &  0.09040131 & 0.86870068 &  0.1040650 & 0.91711779 & FALSE\\\\\n",
       "\\end{tabular}\n"
      ],
      "text/markdown": [
       "\n",
       "A tibble: 12 × 6\n",
       "\n",
       "| term &lt;chr&gt; | estimate &lt;dbl&gt; | std.error &lt;dbl&gt; | statistic &lt;dbl&gt; | p.value &lt;dbl&gt; | issignif &lt;lgl&gt; |\n",
       "|---|---|---|---|---|---|\n",
       "| MMP7           |  0.15541109 | 0.07010018 |  2.2169857 | 0.02662407 |  TRUE |\n",
       "| TIMP1          | -0.42764750 | 0.19417184 | -2.2024178 | 0.02763581 |  TRUE |\n",
       "| C3             |  0.18124162 | 0.11222101 |  1.6150418 | 0.10630165 | FALSE |\n",
       "| LAMB2          | -0.35228823 | 0.25350917 | -1.3896469 | 0.16463612 | FALSE |\n",
       "| S100A4         |  0.10312685 | 0.07768648 |  1.3274749 | 0.18435162 | FALSE |\n",
       "| CD99           | -0.23579445 | 0.22318141 | -1.0565147 | 0.29073312 | FALSE |\n",
       "| COPA           | -0.12465043 | 0.35093778 | -0.3551924 | 0.72244547 | FALSE |\n",
       "| LGALS3BP       | -0.05654436 | 0.21479237 | -0.2632513 | 0.79235693 | FALSE |\n",
       "| stageStage_II  |  0.08568917 | 0.45425232 |  0.1886378 | 0.85037668 | FALSE |\n",
       "| stageStage_III | -0.15243887 | 1.08546592 | -0.1404363 | 0.88831524 | FALSE |\n",
       "| APP            |  0.03127909 | 0.27363357 |  0.1143102 | 0.90899194 | FALSE |\n",
       "| stageStage_IV  |  0.09040131 | 0.86870068 |  0.1040650 | 0.91711779 | FALSE |\n",
       "\n"
      ],
      "text/plain": [
       "   term           estimate    std.error  statistic  p.value    issignif\n",
       "1  MMP7            0.15541109 0.07010018  2.2169857 0.02662407  TRUE   \n",
       "2  TIMP1          -0.42764750 0.19417184 -2.2024178 0.02763581  TRUE   \n",
       "3  C3              0.18124162 0.11222101  1.6150418 0.10630165 FALSE   \n",
       "4  LAMB2          -0.35228823 0.25350917 -1.3896469 0.16463612 FALSE   \n",
       "5  S100A4          0.10312685 0.07768648  1.3274749 0.18435162 FALSE   \n",
       "6  CD99           -0.23579445 0.22318141 -1.0565147 0.29073312 FALSE   \n",
       "7  COPA           -0.12465043 0.35093778 -0.3551924 0.72244547 FALSE   \n",
       "8  LGALS3BP       -0.05654436 0.21479237 -0.2632513 0.79235693 FALSE   \n",
       "9  stageStage_II   0.08568917 0.45425232  0.1886378 0.85037668 FALSE   \n",
       "10 stageStage_III -0.15243887 1.08546592 -0.1404363 0.88831524 FALSE   \n",
       "11 APP             0.03127909 0.27363357  0.1143102 0.90899194 FALSE   \n",
       "12 stageStage_IV   0.09040131 0.86870068  0.1040650 0.91711779 FALSE   "
      ]
     },
     "metadata": {},
     "output_type": "display_data"
    }
   ],
   "source": [
    "results <-\n",
    "  run_survival(\n",
    "    comparison_oi = comparison_of_interest,\n",
    "    lr_data = pdac_cci_data,\n",
    "    tcga_exp_data = paad_tcga_expression_data,\n",
    "    tcga_clinical_data = paad_tcga_clinical_data,\n",
    "    selection_method = c(\"limma\"),\n",
    "    custom_selection = pairs,\n",
    "    n_lr_selected = 10,\n",
    "    which_get = c(\"ligand\"),\n",
    "    is_signif = TRUE,\n",
    "    clinical_vars_in_model = c(\"stage\")\n",
    "  )\n",
    "#> Warning: Zero sample variances detected, have been offset away from zero\n",
    "results$cox_models$coxph_clinical.gene_expression |>\n",
    "  broom::tidy() |>\n",
    "  dplyr::mutate(issignif=p.value<0.05)  |>\n",
    "  dplyr::arrange(p.value)"
   ]
  },
  {
   "cell_type": "markdown",
   "id": "43a57765-70d4-48e0-a300-e532f8452b2f",
   "metadata": {},
   "source": [
    "### Receptor only survival"
   ]
  },
  {
   "cell_type": "code",
   "execution_count": 9,
   "id": "ee413da7-a03b-4555-8f53-4818f7ebe236",
   "metadata": {},
   "outputs": [
    {
     "data": {
      "text/html": [
       "<table class=\"dataframe\">\n",
       "<caption>A tibble: 11 × 6</caption>\n",
       "<thead>\n",
       "\t<tr><th scope=col>term</th><th scope=col>estimate</th><th scope=col>std.error</th><th scope=col>statistic</th><th scope=col>p.value</th><th scope=col>issignif</th></tr>\n",
       "\t<tr><th scope=col>&lt;chr&gt;</th><th scope=col>&lt;dbl&gt;</th><th scope=col>&lt;dbl&gt;</th><th scope=col>&lt;dbl&gt;</th><th scope=col>&lt;dbl&gt;</th><th scope=col>&lt;lgl&gt;</th></tr>\n",
       "</thead>\n",
       "<tbody>\n",
       "\t<tr><td>ERBB3         </td><td> 0.36558947</td><td>0.1570826</td><td> 2.32737151</td><td>0.01994550</td><td> TRUE</td></tr>\n",
       "\t<tr><td>RPSA          </td><td> 0.52221276</td><td>0.2247357</td><td> 2.32367477</td><td>0.02014293</td><td> TRUE</td></tr>\n",
       "\t<tr><td>ITGB1         </td><td> 0.42528859</td><td>0.1852087</td><td> 2.29626672</td><td>0.02166064</td><td> TRUE</td></tr>\n",
       "\t<tr><td>CD63          </td><td>-0.59015033</td><td>0.2715733</td><td>-2.17307933</td><td>0.02977435</td><td> TRUE</td></tr>\n",
       "\t<tr><td>SDC1          </td><td> 0.17801006</td><td>0.1223412</td><td> 1.45502967</td><td>0.14566105</td><td>FALSE</td></tr>\n",
       "\t<tr><td>FGFR2         </td><td>-0.12429890</td><td>0.1015618</td><td>-1.22387418</td><td>0.22099970</td><td>FALSE</td></tr>\n",
       "\t<tr><td>CD81          </td><td>-0.22181624</td><td>0.1813146</td><td>-1.22337804</td><td>0.22118694</td><td>FALSE</td></tr>\n",
       "\t<tr><td>CD74          </td><td> 0.15656289</td><td>0.1485338</td><td> 1.05405534</td><td>0.29185758</td><td>FALSE</td></tr>\n",
       "\t<tr><td>stageStage_IV </td><td>-0.56158409</td><td>0.8621951</td><td>-0.65134221</td><td>0.51482561</td><td>FALSE</td></tr>\n",
       "\t<tr><td>stageStage_II </td><td> 0.18514675</td><td>0.4332413</td><td> 0.42735247</td><td>0.66912262</td><td>FALSE</td></tr>\n",
       "\t<tr><td>stageStage_III</td><td>-0.01482381</td><td>1.0831958</td><td>-0.01368525</td><td>0.98908109</td><td>FALSE</td></tr>\n",
       "</tbody>\n",
       "</table>\n"
      ],
      "text/latex": [
       "A tibble: 11 × 6\n",
       "\\begin{tabular}{llllll}\n",
       " term & estimate & std.error & statistic & p.value & issignif\\\\\n",
       " <chr> & <dbl> & <dbl> & <dbl> & <dbl> & <lgl>\\\\\n",
       "\\hline\n",
       "\t ERBB3          &  0.36558947 & 0.1570826 &  2.32737151 & 0.01994550 &  TRUE\\\\\n",
       "\t RPSA           &  0.52221276 & 0.2247357 &  2.32367477 & 0.02014293 &  TRUE\\\\\n",
       "\t ITGB1          &  0.42528859 & 0.1852087 &  2.29626672 & 0.02166064 &  TRUE\\\\\n",
       "\t CD63           & -0.59015033 & 0.2715733 & -2.17307933 & 0.02977435 &  TRUE\\\\\n",
       "\t SDC1           &  0.17801006 & 0.1223412 &  1.45502967 & 0.14566105 & FALSE\\\\\n",
       "\t FGFR2          & -0.12429890 & 0.1015618 & -1.22387418 & 0.22099970 & FALSE\\\\\n",
       "\t CD81           & -0.22181624 & 0.1813146 & -1.22337804 & 0.22118694 & FALSE\\\\\n",
       "\t CD74           &  0.15656289 & 0.1485338 &  1.05405534 & 0.29185758 & FALSE\\\\\n",
       "\t stageStage\\_IV  & -0.56158409 & 0.8621951 & -0.65134221 & 0.51482561 & FALSE\\\\\n",
       "\t stageStage\\_II  &  0.18514675 & 0.4332413 &  0.42735247 & 0.66912262 & FALSE\\\\\n",
       "\t stageStage\\_III & -0.01482381 & 1.0831958 & -0.01368525 & 0.98908109 & FALSE\\\\\n",
       "\\end{tabular}\n"
      ],
      "text/markdown": [
       "\n",
       "A tibble: 11 × 6\n",
       "\n",
       "| term &lt;chr&gt; | estimate &lt;dbl&gt; | std.error &lt;dbl&gt; | statistic &lt;dbl&gt; | p.value &lt;dbl&gt; | issignif &lt;lgl&gt; |\n",
       "|---|---|---|---|---|---|\n",
       "| ERBB3          |  0.36558947 | 0.1570826 |  2.32737151 | 0.01994550 |  TRUE |\n",
       "| RPSA           |  0.52221276 | 0.2247357 |  2.32367477 | 0.02014293 |  TRUE |\n",
       "| ITGB1          |  0.42528859 | 0.1852087 |  2.29626672 | 0.02166064 |  TRUE |\n",
       "| CD63           | -0.59015033 | 0.2715733 | -2.17307933 | 0.02977435 |  TRUE |\n",
       "| SDC1           |  0.17801006 | 0.1223412 |  1.45502967 | 0.14566105 | FALSE |\n",
       "| FGFR2          | -0.12429890 | 0.1015618 | -1.22387418 | 0.22099970 | FALSE |\n",
       "| CD81           | -0.22181624 | 0.1813146 | -1.22337804 | 0.22118694 | FALSE |\n",
       "| CD74           |  0.15656289 | 0.1485338 |  1.05405534 | 0.29185758 | FALSE |\n",
       "| stageStage_IV  | -0.56158409 | 0.8621951 | -0.65134221 | 0.51482561 | FALSE |\n",
       "| stageStage_II  |  0.18514675 | 0.4332413 |  0.42735247 | 0.66912262 | FALSE |\n",
       "| stageStage_III | -0.01482381 | 1.0831958 | -0.01368525 | 0.98908109 | FALSE |\n",
       "\n"
      ],
      "text/plain": [
       "   term           estimate    std.error statistic   p.value    issignif\n",
       "1  ERBB3           0.36558947 0.1570826  2.32737151 0.01994550  TRUE   \n",
       "2  RPSA            0.52221276 0.2247357  2.32367477 0.02014293  TRUE   \n",
       "3  ITGB1           0.42528859 0.1852087  2.29626672 0.02166064  TRUE   \n",
       "4  CD63           -0.59015033 0.2715733 -2.17307933 0.02977435  TRUE   \n",
       "5  SDC1            0.17801006 0.1223412  1.45502967 0.14566105 FALSE   \n",
       "6  FGFR2          -0.12429890 0.1015618 -1.22387418 0.22099970 FALSE   \n",
       "7  CD81           -0.22181624 0.1813146 -1.22337804 0.22118694 FALSE   \n",
       "8  CD74            0.15656289 0.1485338  1.05405534 0.29185758 FALSE   \n",
       "9  stageStage_IV  -0.56158409 0.8621951 -0.65134221 0.51482561 FALSE   \n",
       "10 stageStage_II   0.18514675 0.4332413  0.42735247 0.66912262 FALSE   \n",
       "11 stageStage_III -0.01482381 1.0831958 -0.01368525 0.98908109 FALSE   "
      ]
     },
     "metadata": {},
     "output_type": "display_data"
    }
   ],
   "source": [
    "results <-\n",
    "  run_survival(\n",
    "    comparison_oi = comparison_of_interest,\n",
    "    lr_data = pdac_cci_data,\n",
    "    tcga_exp_data = paad_tcga_expression_data,\n",
    "    tcga_clinical_data = paad_tcga_clinical_data,\n",
    "    selection_method = c(\"limma\"),\n",
    "    custom_selection = pairs,\n",
    "    n_lr_selected = 10,\n",
    "    which_get = c(\"receptor\"),\n",
    "    is_signif = TRUE,\n",
    "    clinical_vars_in_model = c(\"stage\")\n",
    "  )\n",
    "#> Warning: Zero sample variances detected, have been offset away from zero\n",
    "results$cox_models$coxph_clinical.gene_expression |>\n",
    "  broom::tidy() |>\n",
    "  dplyr::mutate(issignif=p.value<0.05) |>\n",
    "  dplyr::arrange(p.value)"
   ]
  },
  {
   "cell_type": "markdown",
   "id": "fe2e8410-3f21-4dcf-ad81-caad6b0280de",
   "metadata": {},
   "source": [
    "## Finding survival hits without custom Selection"
   ]
  },
  {
   "cell_type": "code",
   "execution_count": 10,
   "id": "63dc465e-6d3a-4108-8674-19df9afae062",
   "metadata": {},
   "outputs": [
    {
     "name": "stderr",
     "output_type": "stream",
     "text": [
      "Warning message:\n",
      "“Zero sample variances detected, have been offset away from zero”\n"
     ]
    },
    {
     "data": {
      "text/html": [
       "<table class=\"dataframe\">\n",
       "<caption>A tibble: 33 × 6</caption>\n",
       "<thead>\n",
       "\t<tr><th scope=col>term</th><th scope=col>estimate</th><th scope=col>std.error</th><th scope=col>statistic</th><th scope=col>p.value</th><th scope=col>issignif</th></tr>\n",
       "\t<tr><th scope=col>&lt;chr&gt;</th><th scope=col>&lt;dbl&gt;</th><th scope=col>&lt;dbl&gt;</th><th scope=col>&lt;dbl&gt;</th><th scope=col>&lt;dbl&gt;</th><th scope=col>&lt;lgl&gt;</th></tr>\n",
       "</thead>\n",
       "<tbody>\n",
       "\t<tr><td>WNT10A_FZD1      </td><td> 4.804240612</td><td>2.15116680</td><td> 2.23331850</td><td>0.02552795</td><td> TRUE</td></tr>\n",
       "\t<tr><td>WNT7B_FZD5       </td><td> 4.710718428</td><td>2.11236817</td><td> 2.23006505</td><td>0.02574312</td><td> TRUE</td></tr>\n",
       "\t<tr><td>FGF2_SDC3        </td><td>-0.961084335</td><td>0.44546094</td><td>-2.15750528</td><td>0.03096632</td><td> TRUE</td></tr>\n",
       "\t<tr><td>WNT7B_FZD1       </td><td>-4.223638197</td><td>1.98969477</td><td>-2.12275685</td><td>0.03377423</td><td> TRUE</td></tr>\n",
       "\t<tr><td>WNT7A_FZD5       </td><td>-2.237014428</td><td>1.14867741</td><td>-1.94746968</td><td>0.05147845</td><td>FALSE</td></tr>\n",
       "\t<tr><td>WNT7A_FZD6       </td><td> 2.182546446</td><td>1.12241215</td><td> 1.94451426</td><td>0.05183347</td><td>FALSE</td></tr>\n",
       "\t<tr><td>AMH_EGFR         </td><td>-0.086740102</td><td>0.04518292</td><td>-1.91975444</td><td>0.05488892</td><td>FALSE</td></tr>\n",
       "\t<tr><td>FGF2_GPC4        </td><td> 0.642919258</td><td>0.36467082</td><td> 1.76301264</td><td>0.07789836</td><td>FALSE</td></tr>\n",
       "\t<tr><td>ADAM17_ERBB4     </td><td>-0.429356492</td><td>0.27402613</td><td>-1.56684506</td><td>0.11715091</td><td>FALSE</td></tr>\n",
       "\t<tr><td>WNT10A_FZD5      </td><td>-3.529312633</td><td>2.25814499</td><td>-1.56292561</td><td>0.11807009</td><td>FALSE</td></tr>\n",
       "\t<tr><td>WNT5B_FZD6       </td><td>-1.605453383</td><td>1.02823780</td><td>-1.56136390</td><td>0.11843792</td><td>FALSE</td></tr>\n",
       "\t<tr><td>COL4A5_ITGB8     </td><td>-0.360580037</td><td>0.23878081</td><td>-1.51008799</td><td>0.13102097</td><td>FALSE</td></tr>\n",
       "\t<tr><td>BTC_EGFR         </td><td> 0.383456262</td><td>0.27661830</td><td> 1.38622882</td><td>0.16567704</td><td>FALSE</td></tr>\n",
       "\t<tr><td>WNT5B_FZD3       </td><td> 1.439081948</td><td>1.09242484</td><td> 1.31732811</td><td>0.18772867</td><td>FALSE</td></tr>\n",
       "\t<tr><td>L1CAM_EPHB2      </td><td> 0.176660475</td><td>0.14666414</td><td> 1.20452396</td><td>0.22838713</td><td>FALSE</td></tr>\n",
       "\t<tr><td>WNT10A_FZD3      </td><td>-1.399854461</td><td>1.16983695</td><td>-1.19662357</td><td>0.23145331</td><td>FALSE</td></tr>\n",
       "\t<tr><td>WNT5B_LRP5       </td><td>-0.806976544</td><td>0.67525915</td><td>-1.19506198</td><td>0.23206281</td><td>FALSE</td></tr>\n",
       "\t<tr><td>EREG_ERBB4       </td><td> 0.257838313</td><td>0.21999882</td><td> 1.17199861</td><td>0.24119761</td><td>FALSE</td></tr>\n",
       "\t<tr><td>DKK1_KREMEN1     </td><td> 0.147060677</td><td>0.14137620</td><td> 1.04020818</td><td>0.29824319</td><td>FALSE</td></tr>\n",
       "\t<tr><td>SHH_SCUBE2       </td><td>-0.159907605</td><td>0.16118859</td><td>-0.99205286</td><td>0.32117174</td><td>FALSE</td></tr>\n",
       "\t<tr><td>WNT5B_LRP6       </td><td> 0.680264025</td><td>0.74898046</td><td> 0.90825336</td><td>0.36374438</td><td>FALSE</td></tr>\n",
       "\t<tr><td>ZP3_EGFR         </td><td> 0.146412092</td><td>0.16844895</td><td> 0.86917783</td><td>0.38474987</td><td>FALSE</td></tr>\n",
       "\t<tr><td>FGF2_FGFR4       </td><td> 0.201818223</td><td>0.23227989</td><td> 0.86885791</td><td>0.38492485</td><td>FALSE</td></tr>\n",
       "\t<tr><td>stageStage_III   </td><td>-0.863872869</td><td>1.16022534</td><td>-0.74457335</td><td>0.45652968</td><td>FALSE</td></tr>\n",
       "\t<tr><td>PCSK9_VLDLR      </td><td> 0.247315227</td><td>0.41280770</td><td> 0.59910516</td><td>0.54910276</td><td>FALSE</td></tr>\n",
       "\t<tr><td>TNFSF11_TNFRSF11A</td><td> 0.100792804</td><td>0.18219314</td><td> 0.55321953</td><td>0.58011310</td><td>FALSE</td></tr>\n",
       "\t<tr><td>PF4_FGFR2        </td><td> 0.036832547</td><td>0.10577431</td><td> 0.34821827</td><td>0.72767627</td><td>FALSE</td></tr>\n",
       "\t<tr><td>PCSK9_SORT1      </td><td>-0.130040608</td><td>0.38297481</td><td>-0.33955395</td><td>0.73419247</td><td>FALSE</td></tr>\n",
       "\t<tr><td>stageStage_II    </td><td> 0.165657306</td><td>0.53312013</td><td> 0.31073167</td><td>0.75600462</td><td>FALSE</td></tr>\n",
       "\t<tr><td>stageStage_IV    </td><td> 0.206753811</td><td>1.05712158</td><td> 0.19558187</td><td>0.84493746</td><td>FALSE</td></tr>\n",
       "\t<tr><td>SLITRK6_PTPRS    </td><td> 0.030691064</td><td>0.16191554</td><td> 0.18954984</td><td>0.84966190</td><td>FALSE</td></tr>\n",
       "\t<tr><td>FGF2_FGFR2       </td><td> 0.026992098</td><td>0.26272164</td><td> 0.10274030</td><td>0.91816909</td><td>FALSE</td></tr>\n",
       "\t<tr><td>SCGB1A1_LMBR1L   </td><td> 0.001959926</td><td>0.05951826</td><td> 0.03292983</td><td>0.97373055</td><td>FALSE</td></tr>\n",
       "</tbody>\n",
       "</table>\n"
      ],
      "text/latex": [
       "A tibble: 33 × 6\n",
       "\\begin{tabular}{llllll}\n",
       " term & estimate & std.error & statistic & p.value & issignif\\\\\n",
       " <chr> & <dbl> & <dbl> & <dbl> & <dbl> & <lgl>\\\\\n",
       "\\hline\n",
       "\t WNT10A\\_FZD1       &  4.804240612 & 2.15116680 &  2.23331850 & 0.02552795 &  TRUE\\\\\n",
       "\t WNT7B\\_FZD5        &  4.710718428 & 2.11236817 &  2.23006505 & 0.02574312 &  TRUE\\\\\n",
       "\t FGF2\\_SDC3         & -0.961084335 & 0.44546094 & -2.15750528 & 0.03096632 &  TRUE\\\\\n",
       "\t WNT7B\\_FZD1        & -4.223638197 & 1.98969477 & -2.12275685 & 0.03377423 &  TRUE\\\\\n",
       "\t WNT7A\\_FZD5        & -2.237014428 & 1.14867741 & -1.94746968 & 0.05147845 & FALSE\\\\\n",
       "\t WNT7A\\_FZD6        &  2.182546446 & 1.12241215 &  1.94451426 & 0.05183347 & FALSE\\\\\n",
       "\t AMH\\_EGFR          & -0.086740102 & 0.04518292 & -1.91975444 & 0.05488892 & FALSE\\\\\n",
       "\t FGF2\\_GPC4         &  0.642919258 & 0.36467082 &  1.76301264 & 0.07789836 & FALSE\\\\\n",
       "\t ADAM17\\_ERBB4      & -0.429356492 & 0.27402613 & -1.56684506 & 0.11715091 & FALSE\\\\\n",
       "\t WNT10A\\_FZD5       & -3.529312633 & 2.25814499 & -1.56292561 & 0.11807009 & FALSE\\\\\n",
       "\t WNT5B\\_FZD6        & -1.605453383 & 1.02823780 & -1.56136390 & 0.11843792 & FALSE\\\\\n",
       "\t COL4A5\\_ITGB8      & -0.360580037 & 0.23878081 & -1.51008799 & 0.13102097 & FALSE\\\\\n",
       "\t BTC\\_EGFR          &  0.383456262 & 0.27661830 &  1.38622882 & 0.16567704 & FALSE\\\\\n",
       "\t WNT5B\\_FZD3        &  1.439081948 & 1.09242484 &  1.31732811 & 0.18772867 & FALSE\\\\\n",
       "\t L1CAM\\_EPHB2       &  0.176660475 & 0.14666414 &  1.20452396 & 0.22838713 & FALSE\\\\\n",
       "\t WNT10A\\_FZD3       & -1.399854461 & 1.16983695 & -1.19662357 & 0.23145331 & FALSE\\\\\n",
       "\t WNT5B\\_LRP5        & -0.806976544 & 0.67525915 & -1.19506198 & 0.23206281 & FALSE\\\\\n",
       "\t EREG\\_ERBB4        &  0.257838313 & 0.21999882 &  1.17199861 & 0.24119761 & FALSE\\\\\n",
       "\t DKK1\\_KREMEN1      &  0.147060677 & 0.14137620 &  1.04020818 & 0.29824319 & FALSE\\\\\n",
       "\t SHH\\_SCUBE2        & -0.159907605 & 0.16118859 & -0.99205286 & 0.32117174 & FALSE\\\\\n",
       "\t WNT5B\\_LRP6        &  0.680264025 & 0.74898046 &  0.90825336 & 0.36374438 & FALSE\\\\\n",
       "\t ZP3\\_EGFR          &  0.146412092 & 0.16844895 &  0.86917783 & 0.38474987 & FALSE\\\\\n",
       "\t FGF2\\_FGFR4        &  0.201818223 & 0.23227989 &  0.86885791 & 0.38492485 & FALSE\\\\\n",
       "\t stageStage\\_III    & -0.863872869 & 1.16022534 & -0.74457335 & 0.45652968 & FALSE\\\\\n",
       "\t PCSK9\\_VLDLR       &  0.247315227 & 0.41280770 &  0.59910516 & 0.54910276 & FALSE\\\\\n",
       "\t TNFSF11\\_TNFRSF11A &  0.100792804 & 0.18219314 &  0.55321953 & 0.58011310 & FALSE\\\\\n",
       "\t PF4\\_FGFR2         &  0.036832547 & 0.10577431 &  0.34821827 & 0.72767627 & FALSE\\\\\n",
       "\t PCSK9\\_SORT1       & -0.130040608 & 0.38297481 & -0.33955395 & 0.73419247 & FALSE\\\\\n",
       "\t stageStage\\_II     &  0.165657306 & 0.53312013 &  0.31073167 & 0.75600462 & FALSE\\\\\n",
       "\t stageStage\\_IV     &  0.206753811 & 1.05712158 &  0.19558187 & 0.84493746 & FALSE\\\\\n",
       "\t SLITRK6\\_PTPRS     &  0.030691064 & 0.16191554 &  0.18954984 & 0.84966190 & FALSE\\\\\n",
       "\t FGF2\\_FGFR2        &  0.026992098 & 0.26272164 &  0.10274030 & 0.91816909 & FALSE\\\\\n",
       "\t SCGB1A1\\_LMBR1L    &  0.001959926 & 0.05951826 &  0.03292983 & 0.97373055 & FALSE\\\\\n",
       "\\end{tabular}\n"
      ],
      "text/markdown": [
       "\n",
       "A tibble: 33 × 6\n",
       "\n",
       "| term &lt;chr&gt; | estimate &lt;dbl&gt; | std.error &lt;dbl&gt; | statistic &lt;dbl&gt; | p.value &lt;dbl&gt; | issignif &lt;lgl&gt; |\n",
       "|---|---|---|---|---|---|\n",
       "| WNT10A_FZD1       |  4.804240612 | 2.15116680 |  2.23331850 | 0.02552795 |  TRUE |\n",
       "| WNT7B_FZD5        |  4.710718428 | 2.11236817 |  2.23006505 | 0.02574312 |  TRUE |\n",
       "| FGF2_SDC3         | -0.961084335 | 0.44546094 | -2.15750528 | 0.03096632 |  TRUE |\n",
       "| WNT7B_FZD1        | -4.223638197 | 1.98969477 | -2.12275685 | 0.03377423 |  TRUE |\n",
       "| WNT7A_FZD5        | -2.237014428 | 1.14867741 | -1.94746968 | 0.05147845 | FALSE |\n",
       "| WNT7A_FZD6        |  2.182546446 | 1.12241215 |  1.94451426 | 0.05183347 | FALSE |\n",
       "| AMH_EGFR          | -0.086740102 | 0.04518292 | -1.91975444 | 0.05488892 | FALSE |\n",
       "| FGF2_GPC4         |  0.642919258 | 0.36467082 |  1.76301264 | 0.07789836 | FALSE |\n",
       "| ADAM17_ERBB4      | -0.429356492 | 0.27402613 | -1.56684506 | 0.11715091 | FALSE |\n",
       "| WNT10A_FZD5       | -3.529312633 | 2.25814499 | -1.56292561 | 0.11807009 | FALSE |\n",
       "| WNT5B_FZD6        | -1.605453383 | 1.02823780 | -1.56136390 | 0.11843792 | FALSE |\n",
       "| COL4A5_ITGB8      | -0.360580037 | 0.23878081 | -1.51008799 | 0.13102097 | FALSE |\n",
       "| BTC_EGFR          |  0.383456262 | 0.27661830 |  1.38622882 | 0.16567704 | FALSE |\n",
       "| WNT5B_FZD3        |  1.439081948 | 1.09242484 |  1.31732811 | 0.18772867 | FALSE |\n",
       "| L1CAM_EPHB2       |  0.176660475 | 0.14666414 |  1.20452396 | 0.22838713 | FALSE |\n",
       "| WNT10A_FZD3       | -1.399854461 | 1.16983695 | -1.19662357 | 0.23145331 | FALSE |\n",
       "| WNT5B_LRP5        | -0.806976544 | 0.67525915 | -1.19506198 | 0.23206281 | FALSE |\n",
       "| EREG_ERBB4        |  0.257838313 | 0.21999882 |  1.17199861 | 0.24119761 | FALSE |\n",
       "| DKK1_KREMEN1      |  0.147060677 | 0.14137620 |  1.04020818 | 0.29824319 | FALSE |\n",
       "| SHH_SCUBE2        | -0.159907605 | 0.16118859 | -0.99205286 | 0.32117174 | FALSE |\n",
       "| WNT5B_LRP6        |  0.680264025 | 0.74898046 |  0.90825336 | 0.36374438 | FALSE |\n",
       "| ZP3_EGFR          |  0.146412092 | 0.16844895 |  0.86917783 | 0.38474987 | FALSE |\n",
       "| FGF2_FGFR4        |  0.201818223 | 0.23227989 |  0.86885791 | 0.38492485 | FALSE |\n",
       "| stageStage_III    | -0.863872869 | 1.16022534 | -0.74457335 | 0.45652968 | FALSE |\n",
       "| PCSK9_VLDLR       |  0.247315227 | 0.41280770 |  0.59910516 | 0.54910276 | FALSE |\n",
       "| TNFSF11_TNFRSF11A |  0.100792804 | 0.18219314 |  0.55321953 | 0.58011310 | FALSE |\n",
       "| PF4_FGFR2         |  0.036832547 | 0.10577431 |  0.34821827 | 0.72767627 | FALSE |\n",
       "| PCSK9_SORT1       | -0.130040608 | 0.38297481 | -0.33955395 | 0.73419247 | FALSE |\n",
       "| stageStage_II     |  0.165657306 | 0.53312013 |  0.31073167 | 0.75600462 | FALSE |\n",
       "| stageStage_IV     |  0.206753811 | 1.05712158 |  0.19558187 | 0.84493746 | FALSE |\n",
       "| SLITRK6_PTPRS     |  0.030691064 | 0.16191554 |  0.18954984 | 0.84966190 | FALSE |\n",
       "| FGF2_FGFR2        |  0.026992098 | 0.26272164 |  0.10274030 | 0.91816909 | FALSE |\n",
       "| SCGB1A1_LMBR1L    |  0.001959926 | 0.05951826 |  0.03292983 | 0.97373055 | FALSE |\n",
       "\n"
      ],
      "text/plain": [
       "   term              estimate     std.error  statistic   p.value    issignif\n",
       "1  WNT10A_FZD1        4.804240612 2.15116680  2.23331850 0.02552795  TRUE   \n",
       "2  WNT7B_FZD5         4.710718428 2.11236817  2.23006505 0.02574312  TRUE   \n",
       "3  FGF2_SDC3         -0.961084335 0.44546094 -2.15750528 0.03096632  TRUE   \n",
       "4  WNT7B_FZD1        -4.223638197 1.98969477 -2.12275685 0.03377423  TRUE   \n",
       "5  WNT7A_FZD5        -2.237014428 1.14867741 -1.94746968 0.05147845 FALSE   \n",
       "6  WNT7A_FZD6         2.182546446 1.12241215  1.94451426 0.05183347 FALSE   \n",
       "7  AMH_EGFR          -0.086740102 0.04518292 -1.91975444 0.05488892 FALSE   \n",
       "8  FGF2_GPC4          0.642919258 0.36467082  1.76301264 0.07789836 FALSE   \n",
       "9  ADAM17_ERBB4      -0.429356492 0.27402613 -1.56684506 0.11715091 FALSE   \n",
       "10 WNT10A_FZD5       -3.529312633 2.25814499 -1.56292561 0.11807009 FALSE   \n",
       "11 WNT5B_FZD6        -1.605453383 1.02823780 -1.56136390 0.11843792 FALSE   \n",
       "12 COL4A5_ITGB8      -0.360580037 0.23878081 -1.51008799 0.13102097 FALSE   \n",
       "13 BTC_EGFR           0.383456262 0.27661830  1.38622882 0.16567704 FALSE   \n",
       "14 WNT5B_FZD3         1.439081948 1.09242484  1.31732811 0.18772867 FALSE   \n",
       "15 L1CAM_EPHB2        0.176660475 0.14666414  1.20452396 0.22838713 FALSE   \n",
       "16 WNT10A_FZD3       -1.399854461 1.16983695 -1.19662357 0.23145331 FALSE   \n",
       "17 WNT5B_LRP5        -0.806976544 0.67525915 -1.19506198 0.23206281 FALSE   \n",
       "18 EREG_ERBB4         0.257838313 0.21999882  1.17199861 0.24119761 FALSE   \n",
       "19 DKK1_KREMEN1       0.147060677 0.14137620  1.04020818 0.29824319 FALSE   \n",
       "20 SHH_SCUBE2        -0.159907605 0.16118859 -0.99205286 0.32117174 FALSE   \n",
       "21 WNT5B_LRP6         0.680264025 0.74898046  0.90825336 0.36374438 FALSE   \n",
       "22 ZP3_EGFR           0.146412092 0.16844895  0.86917783 0.38474987 FALSE   \n",
       "23 FGF2_FGFR4         0.201818223 0.23227989  0.86885791 0.38492485 FALSE   \n",
       "24 stageStage_III    -0.863872869 1.16022534 -0.74457335 0.45652968 FALSE   \n",
       "25 PCSK9_VLDLR        0.247315227 0.41280770  0.59910516 0.54910276 FALSE   \n",
       "26 TNFSF11_TNFRSF11A  0.100792804 0.18219314  0.55321953 0.58011310 FALSE   \n",
       "27 PF4_FGFR2          0.036832547 0.10577431  0.34821827 0.72767627 FALSE   \n",
       "28 PCSK9_SORT1       -0.130040608 0.38297481 -0.33955395 0.73419247 FALSE   \n",
       "29 stageStage_II      0.165657306 0.53312013  0.31073167 0.75600462 FALSE   \n",
       "30 stageStage_IV      0.206753811 1.05712158  0.19558187 0.84493746 FALSE   \n",
       "31 SLITRK6_PTPRS      0.030691064 0.16191554  0.18954984 0.84966190 FALSE   \n",
       "32 FGF2_FGFR2         0.026992098 0.26272164  0.10274030 0.91816909 FALSE   \n",
       "33 SCGB1A1_LMBR1L     0.001959926 0.05951826  0.03292983 0.97373055 FALSE   "
      ]
     },
     "metadata": {},
     "output_type": "display_data"
    }
   ],
   "source": [
    "results <-\n",
    "  run_survival(\n",
    "    comparison_oi = comparison_of_interest,\n",
    "    lr_data = pdac_cci_data,\n",
    "    tcga_exp_data = paad_tcga_expression_data,\n",
    "    tcga_clinical_data = paad_tcga_clinical_data,\n",
    "    selection_method = c(\"limma\"),\n",
    "    n_lr_selected = 30,\n",
    "    which_get = c(\"ligand\", \"receptor\"),\n",
    "    is_signif = TRUE,\n",
    "    clinical_vars_in_model = c(\"stage\")\n",
    "  )\n",
    "#> Warning: Zero sample variances detected, have been offset away from zero\n",
    "results$cox_models$coxph_clinical.lr_pairs |>\n",
    "  broom::tidy() |>\n",
    "  dplyr::mutate(issignif=p.value<0.05)  |>\n",
    "  dplyr::arrange(p.value)"
   ]
  }
 ],
 "metadata": {
  "kernelspec": {
   "display_name": "R",
   "language": "R",
   "name": "liana_r"
  },
  "language_info": {
   "codemirror_mode": "r",
   "file_extension": ".r",
   "mimetype": "text/x-r-source",
   "name": "R",
   "pygments_lexer": "r",
   "version": "4.4.2"
  }
 },
 "nbformat": 4,
 "nbformat_minor": 5
}
