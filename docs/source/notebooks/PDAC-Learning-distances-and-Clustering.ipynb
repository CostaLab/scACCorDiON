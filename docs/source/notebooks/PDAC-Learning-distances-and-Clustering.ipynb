{
 "cells": [
  {
   "cell_type": "markdown",
   "id": "e5499881",
   "metadata": {},
   "source": [
    "# Tutorial: ACCorDIoN test data"
   ]
  },
  {
   "cell_type": "markdown",
   "id": "cf3c5033",
   "metadata": {},
   "source": [
    "James S. Nagai\n",
    "\n",
    "02.05.2023\n",
    "\n",
    "*Note: Before using ACCorDIoN make sure that you have the CrossTalkeR installed in your local R enviroment([github](https://costalab.github.io/CrossTalkeR/))*\n",
    "\n",
    "Here we introduce scACCorDIoN. In this notebook, we guide you into the framework steps.\n"
   ]
  },
  {
   "cell_type": "markdown",
   "id": "f6d9972e",
   "metadata": {},
   "source": [
    "## Load Libraries"
   ]
  },
  {
   "cell_type": "code",
   "execution_count": 1,
   "id": "1224b4ee",
   "metadata": {},
   "outputs": [
    {
     "name": "stderr",
     "output_type": "stream",
     "text": [
      "2024-12-27 14:15:57.707917: W tensorflow/stream_executor/platform/default/dso_loader.cc:64] Could not load dynamic library 'libcudart.so.11.0'; dlerror: libcudart.so.11.0: cannot open shared object file: No such file or directory\n"
     ]
    }
   ],
   "source": [
    "from scaccordion import tl as actl\n",
    "import seaborn as sns\n",
    "import matplotlib.pyplot as plt\n",
    "from sklearn.cluster import KMeans\n",
    "import pydiffmap as dm\n",
    "import pandas as pd\n",
    "import networkx as nx\n",
    "from skimpy import skim\n",
    "from sklearn import covariance\n",
    "import conorm\n",
    "import phate\n",
    "import warnings\n",
    "import kmedoids\n",
    "import numpy as np\n",
    "from tqdm import tqdm\n",
    "import ot\n",
    "import os\n",
    "from sklearn import manifold\n",
    "warnings.filterwarnings(\"ignore\")"
   ]
  },
  {
   "cell_type": "markdown",
   "id": "5c9e4f1d",
   "metadata": {},
   "source": [
    "### 1. Loading data and metadata\n",
    "Here, we explore the [Pancreas Adenocarcinoma Cohort](https://www.nature.com/articles/s41422-019-0195-y)(Peng et.al.,2019). The data available in scACCorDiON were pre-processed. The Ligand-Receptor inference were performed using the CellphoneDB methods (Efremova et. al., 2020) implemented in [LIANA](https://liana-py.readthedocs.io/en/latest/)(Dimitrov et. al.,2022). Networks were generated using [CrossTalkeR](https://costalab.github.io/CrossTalkeR/)(Nagai et. al., 2021)"
   ]
  },
  {
   "cell_type": "code",
   "execution_count": 2,
   "id": "41b385ad-90c9-4827-bf70-0721f694ac7d",
   "metadata": {},
   "outputs": [
    {
     "name": "stdout",
     "output_type": "stream",
     "text": [
      "--2024-12-27 14:15:59--  https://www.costalab.org/wp-content/uploads/2024/12/PDAC_data.zip\n",
      "Resolving www.costalab.org (www.costalab.org)... 195.30.85.240\n",
      "Connecting to www.costalab.org (www.costalab.org)|195.30.85.240|:443... connected.\n",
      "HTTP request sent, awaiting response... 200 OK\n",
      "Length: 9950332 (9.5M) [application/zip]\n",
      "Saving to: ‘PDAC_data.zip’\n",
      "\n",
      "PDAC_data.zip       100%[===================>]   9.49M  42.7MB/s    in 0.2s    \n",
      "\n",
      "2024-12-27 14:15:59 (42.7 MB/s) - ‘PDAC_data.zip’ saved [9950332/9950332]\n",
      "\n"
     ]
    }
   ],
   "source": [
    "! wget https://www.costalab.org/wp-content/uploads/2024/12/PDAC_data.zip"
   ]
  },
  {
   "cell_type": "code",
   "execution_count": 3,
   "id": "debd5878-c3d9-4672-8572-8ad24181db24",
   "metadata": {},
   "outputs": [
    {
     "name": "stdout",
     "output_type": "stream",
     "text": [
      "Archive:  PDAC_data.zip\n",
      "   creating: PDAC_data/\n",
      "   creating: PDAC_data/LRdata/\n",
      "  inflating: PDAC_data/LRdata/ct_Peng_PDAC_processed|N1.csv  \n",
      "  inflating: PDAC_data/LRdata/ct_Peng_PDAC_processed|N10.csv  \n",
      "  inflating: PDAC_data/LRdata/ct_Peng_PDAC_processed|N11.csv  \n",
      "  inflating: PDAC_data/LRdata/ct_Peng_PDAC_processed|N2.csv  \n",
      "  inflating: PDAC_data/LRdata/ct_Peng_PDAC_processed|N3.csv  \n",
      "  inflating: PDAC_data/LRdata/ct_Peng_PDAC_processed|N4.csv  \n",
      "  inflating: PDAC_data/LRdata/ct_Peng_PDAC_processed|N5.csv  \n",
      "  inflating: PDAC_data/LRdata/ct_Peng_PDAC_processed|N6.csv  \n",
      "  inflating: PDAC_data/LRdata/ct_Peng_PDAC_processed|N7.csv  \n",
      "  inflating: PDAC_data/LRdata/ct_Peng_PDAC_processed|N8.csv  \n",
      "  inflating: PDAC_data/LRdata/ct_Peng_PDAC_processed|N9.csv  \n",
      "  inflating: PDAC_data/LRdata/ct_Peng_PDAC_processed|T1.csv  \n",
      "  inflating: PDAC_data/LRdata/ct_Peng_PDAC_processed|T10.csv  \n",
      "  inflating: PDAC_data/LRdata/ct_Peng_PDAC_processed|T11.csv  \n",
      "  inflating: PDAC_data/LRdata/ct_Peng_PDAC_processed|T12.csv  \n",
      "  inflating: PDAC_data/LRdata/ct_Peng_PDAC_processed|T13.csv  \n",
      "  inflating: PDAC_data/LRdata/ct_Peng_PDAC_processed|T14.csv  \n",
      "  inflating: PDAC_data/LRdata/ct_Peng_PDAC_processed|T15.csv  \n",
      "  inflating: PDAC_data/LRdata/ct_Peng_PDAC_processed|T16.csv  \n",
      "  inflating: PDAC_data/LRdata/ct_Peng_PDAC_processed|T17.csv  \n",
      "  inflating: PDAC_data/LRdata/ct_Peng_PDAC_processed|T18.csv  \n",
      "  inflating: PDAC_data/LRdata/ct_Peng_PDAC_processed|T19.csv  \n",
      "  inflating: PDAC_data/LRdata/ct_Peng_PDAC_processed|T2.csv  \n",
      "  inflating: PDAC_data/LRdata/ct_Peng_PDAC_processed|T20.csv  \n",
      "  inflating: PDAC_data/LRdata/ct_Peng_PDAC_processed|T21.csv  \n",
      "  inflating: PDAC_data/LRdata/ct_Peng_PDAC_processed|T22.csv  \n",
      "  inflating: PDAC_data/LRdata/ct_Peng_PDAC_processed|T23.csv  \n",
      "  inflating: PDAC_data/LRdata/ct_Peng_PDAC_processed|T24.csv  \n",
      "  inflating: PDAC_data/LRdata/ct_Peng_PDAC_processed|T3.csv  \n",
      "  inflating: PDAC_data/LRdata/ct_Peng_PDAC_processed|T4.csv  \n",
      "  inflating: PDAC_data/LRdata/ct_Peng_PDAC_processed|T5.csv  \n",
      "  inflating: PDAC_data/LRdata/ct_Peng_PDAC_processed|T6.csv  \n",
      "  inflating: PDAC_data/LRdata/ct_Peng_PDAC_processed|T7.csv  \n",
      "  inflating: PDAC_data/LRdata/ct_Peng_PDAC_processed|T8.csv  \n",
      "  inflating: PDAC_data/LRdata/ct_Peng_PDAC_processed|T9.csv  \n",
      "  inflating: PDAC_data/Peng_PDAC_metaacc.h5ad  \n",
      "  inflating: PDAC_data/Peng_PDAC_processed_text.pickle  \n"
     ]
    }
   ],
   "source": [
    "! unzip PDAC_data.zip"
   ]
  },
  {
   "cell_type": "markdown",
   "id": "96b251f7-98ca-40da-9ea2-53c2527a7426",
   "metadata": {},
   "source": [
    "### 1. Read the data and selecting the tables"
   ]
  },
  {
   "cell_type": "code",
   "execution_count": 4,
   "id": "8545fd8b-b521-4c78-8624-736536d60966",
   "metadata": {},
   "outputs": [
    {
     "name": "stdout",
     "output_type": "stream",
     "text": [
      "dict_keys(['T14', 'N1', 'T12', 'T2', 'T23', 'T22', 'N5', 'N8', 'T6', 'N3', 'T4', 'N11', 'T18', 'T9', 'N2', 'T21', 'T11', 'T16', 'T17', 'T3', 'N10', 'T5', 'N9', 'T15', 'N6', 'T10', 'N7', 'T20', 'T7', 'T24', 'T19', 'T8', 'N4', 'T1', 'T13'])\n"
     ]
    }
   ],
   "source": [
    "## Reading the data\n",
    "path = \"./PDAC_data/LRdata/\"\n",
    "#print(lines)\n",
    "data = {}\n",
    "for idi in enumerate(os.listdir(path)):\n",
    "\t#print(idi)\n",
    "\ti = idi[1]\n",
    "\tdata[i[i.find(\"|\")+1:i.find(\".csv\")]] = pd.read_csv(path+idi[1])\n",
    "print(data.keys())\n",
    "## Reading metadata\n",
    "pdata_metadata = pd.read_hdf(\"./PDAC_data/Peng_PDAC_metaacc.h5ad\")"
   ]
  },
  {
   "cell_type": "markdown",
   "id": "75cbb8ae",
   "metadata": {},
   "source": [
    "### 2. Now with the tables from CrossTalkeR/Liana we build the Accordion Object "
   ]
  },
  {
   "cell_type": "code",
   "execution_count": 5,
   "id": "2abdb566",
   "metadata": {},
   "outputs": [],
   "source": [
    "def norm(x):\n",
    "    '''\n",
    "        Defining the normalization function.\n",
    "    '''\n",
    "    nf = conorm.tmm(x+1e-5,trim_lfc=0,trim_mag=0)\n",
    "    return (nf)"
   ]
  },
  {
   "cell_type": "markdown",
   "id": "063d212b",
   "metadata": {},
   "source": [
    "##### Creating an Accordion Object"
   ]
  },
  {
   "cell_type": "code",
   "execution_count": 6,
   "id": "1d0bfd56",
   "metadata": {},
   "outputs": [],
   "source": [
    "AaccPDAC = actl.Accordion(tbls=data,weight='lr_means',normf=norm)"
   ]
  },
  {
   "cell_type": "markdown",
   "id": "dc6dc562",
   "metadata": {},
   "source": [
    "### 3. Computing a PCA using the edge distribuition per sample"
   ]
  },
  {
   "cell_type": "code",
   "execution_count": 7,
   "id": "cfa28e51",
   "metadata": {},
   "outputs": [
    {
     "data": {
      "text/plain": [
       "Text(0, 0.5, 'PC2')"
      ]
     },
     "execution_count": 7,
     "metadata": {},
     "output_type": "execute_result"
    },
    {
     "data": {
      "image/png": "[encoded data removed]",
      "text/plain": [
       "<Figure size 640x480 with 1 Axes>"
      ]
     },
     "metadata": {},
     "output_type": "display_data"
    }
   ],
   "source": [
    "AaccPDAC.make_pca()\n",
    "sns.scatterplot(x=AaccPDAC.Cs['PCA'][0],y=AaccPDAC.Cs['PCA'][1],\n",
    "                hue=pdata_metadata.loc[AaccPDAC.Cs['PCA'].index,'accLabel'])\n",
    "plt.legend(loc='center left', bbox_to_anchor=(1, 0.5))\n",
    "plt.xlabel(\"PC1\")\n",
    "plt.ylabel(\"PC2\")\n"
   ]
  },
  {
   "cell_type": "markdown",
   "id": "4822455a",
   "metadata": {},
   "source": [
    "### 4 Optimal Transport: Wasserstein"
   ]
  },
  {
   "cell_type": "markdown",
   "id": "63962039",
   "metadata": {},
   "source": [
    "In this step we compute the graph-to-graph distance solving the Optimal Transport minimization problem. Note that, the Optimal Transport is done in two main steps: (1) we use the function **compute_cost()** to compute an edge-to-edge distance and (2) we use the edge weights and the cost to get a graph-to-graph distance matrix using **compute_wasserstein()**\n",
    "```{python}\n",
    "AaccPDAC.compute_cost_all() ## Run all the possible cost matrices\n",
    "```"
   ]
  },
  {
   "cell_type": "code",
   "execution_count": 8,
   "id": "7da4ccb3",
   "metadata": {},
   "outputs": [],
   "source": [
    "AaccPDAC.compute_cost(mode='HTD') # Computing the cost\n",
    "AaccPDAC.compute_wassestein(cost='HTD_0.5') # Getting the sample-to-sample distance"
   ]
  },
  {
   "cell_type": "markdown",
   "id": "0b100700",
   "metadata": {},
   "source": [
    "##### Metric Evaluation using K-means and the original labels"
   ]
  },
  {
   "cell_type": "code",
   "execution_count": 9,
   "id": "3c8892a9",
   "metadata": {},
   "outputs": [],
   "source": [
    "dt=AaccPDAC.eval_all(y=pdata_metadata.loc[AaccPDAC.p.columns,'accLabel'].astype('category').cat.codes)"
   ]
  },
  {
   "cell_type": "code",
   "execution_count": 10,
   "id": "5785309e",
   "metadata": {},
   "outputs": [
    {
     "data": {
      "text/plain": [
       "{'HTD_0.5': {'ar': 1.0,\n",
       "  'r': 1.0,\n",
       "  'fm': 1.0,\n",
       "  'afm': 1.0,\n",
       "  'mi': 0.6224869206570488,\n",
       "  'nmi': 1.0,\n",
       "  'ami': 1.0,\n",
       "  'npa': 1.0,\n",
       "  'psi': 1.0,\n",
       "  'spsi': 1.0,\n",
       "  'nca': 1.0}}"
      ]
     },
     "execution_count": 10,
     "metadata": {},
     "output_type": "execute_result"
    }
   ],
   "source": [
    "dt"
   ]
  },
  {
   "cell_type": "markdown",
   "id": "03fa8419",
   "metadata": {},
   "source": [
    "### 5 Clustering using the graph-to-graph distance"
   ]
  },
  {
   "cell_type": "markdown",
   "id": "f8080aca",
   "metadata": {},
   "source": [
    "In this step we compute the clustering methods mentioned in our manuscript, note that two clustering approaches are show:\n",
    "\n",
    "    1. KMedoids\n",
    "    2. KBarycenters"
   ]
  },
  {
   "cell_type": "markdown",
   "id": "ace01ef4",
   "metadata": {},
   "source": [
    "#### 5.1 Here we compute the K-medoids"
   ]
  },
  {
   "cell_type": "code",
   "execution_count": 11,
   "id": "fae99d1a",
   "metadata": {},
   "outputs": [
    {
     "data": {
      "text/plain": [
       "<Figure size 600x500 with 0 Axes>"
      ]
     },
     "metadata": {},
     "output_type": "display_data"
    }
   ],
   "source": [
    "km = kmedoids.KMedoids(n_clusters=3, method='fasterpam')\n",
    "plt.figure(figsize=(6,5))\n",
    "c = km.fit(AaccPDAC.wdist['HTD_0.5'].to_numpy())\n",
    "X =np.round(AaccPDAC.wdist['HTD_0.5'].loc[AaccPDAC.wdist['HTD_0.5'].index,AaccPDAC.wdist['HTD_0.5'].index],5)\n"
   ]
  },
  {
   "cell_type": "markdown",
   "id": "f7324b9b",
   "metadata": {},
   "source": [
    "#### 5.2.1 Here we compute the K-barycenters"
   ]
  },
  {
   "cell_type": "code",
   "execution_count": 12,
   "id": "8e530cfa",
   "metadata": {},
   "outputs": [
    {
     "name": "stderr",
     "output_type": "stream",
     "text": [
      "100%|█████████████████████████████████████████| 100/100 [01:08<00:00,  1.46it/s]\n"
     ]
    }
   ],
   "source": [
    "clust,loss = [],[]\n",
    "for _ in tqdm(range(100)):\n",
    "    kmeans = actl.KBarycenters(k=3,init='++',random_state=_,max_iters=100)\n",
    "    kmeans.fit(X,distr=AaccPDAC.p,cost=AaccPDAC.Cs['HTD_0.5'])\n",
    "    clust.append(kmeans)\n",
    "    loss.append(kmeans.err[-1])\n",
    "ncls= clust[np.argmin(loss)]"
   ]
  },
  {
   "cell_type": "markdown",
   "id": "7bbe4bd8",
   "metadata": {},
   "source": [
    "### 5.2.2 Updating the distance matrix with the Barycenters"
   ]
  },
  {
   "cell_type": "code",
   "execution_count": 13,
   "id": "0e1f89fa",
   "metadata": {},
   "outputs": [],
   "source": [
    "aux = ncls.centroids.to_dict()\n",
    "for i in range(3):\n",
    "    for j in range(i,3):\n",
    "        if i!=j:\n",
    "            aux[i][j] = ot.emd2(a=ncls.bary[i]/ncls.bary[i].sum(),\n",
    "                                b=ncls.bary[j]/ncls.bary[j].sum(),M=AaccPDAC.Cs['HTD_0.5'])\n",
    "            aux[j][i] = ot.emd2(a=ncls.bary[i]/ncls.bary[i].sum(),\n",
    "                                b=ncls.bary[j]/ncls.bary[j].sum(),M=AaccPDAC.Cs['HTD_0.5'])\n",
    "        else:\n",
    "            aux[i][j] = 0\n",
    "eux = pd.concat([AaccPDAC.wdist['HTD_0.5'],ncls.centroids],axis=1)\n",
    "eux = pd.concat([eux,pd.DataFrame.from_dict(aux).T])\n",
    "tmplab = ncls.flabels.tolist()\n",
    "for i in [0,1,2]:\n",
    "    tmplab.append(i) "
   ]
  },
  {
   "cell_type": "markdown",
   "id": "cf272c7b",
   "metadata": {},
   "source": [
    "##### Defining the barycenters"
   ]
  },
  {
   "cell_type": "code",
   "execution_count": 14,
   "id": "a5158465",
   "metadata": {},
   "outputs": [],
   "source": [
    "tmpstl = ['0']*len(AaccPDAC.p.columns)+['1']*3"
   ]
  },
  {
   "cell_type": "markdown",
   "id": "b84d05e1",
   "metadata": {},
   "source": [
    "### 5.2.3 Computing the new embeddings and plotting the new data representation "
   ]
  },
  {
   "cell_type": "code",
   "execution_count": 15,
   "id": "05bccc52",
   "metadata": {},
   "outputs": [],
   "source": [
    "import phate"
   ]
  },
  {
   "cell_type": "code",
   "execution_count": 16,
   "id": "e3bcc46e",
   "metadata": {},
   "outputs": [
    {
     "name": "stdout",
     "output_type": "stream",
     "text": [
      "Calculating PHATE...\n",
      "  Running PHATE on precomputed distance matrix with 38 observations.\n",
      "  Calculating graph and diffusion operator...\n",
      "    Calculating affinities...\n",
      "  Calculating optimal t...\n",
      "    Automatically selected t = 5\n",
      "  Calculating diffusion potential...\n",
      "  Calculating metric MDS...\n",
      "Calculated PHATE in 0.01 seconds.\n"
     ]
    },
    {
     "data": {
      "image/png": "[encoded data removed]",
      "text/plain": [
       "<Figure size 1400x500 with 2 Axes>"
      ]
     },
     "metadata": {},
     "output_type": "display_data"
    }
   ],
   "source": [
    "emb1 = phate.PHATE(knn=8,knn_dist='precomputed',random_state=42)\n",
    "emb1 = emb1.fit_transform(eux.to_numpy())\n",
    "fs,axs = plt.subplots(1,2,figsize=(14,5))\n",
    "axs = axs.ravel()"
   ]
  },
  {
   "cell_type": "markdown",
   "id": "7966a693",
   "metadata": {},
   "source": [
    "#### Prepare the embedding the barycenters and the colormap"
   ]
  },
  {
   "cell_type": "code",
   "execution_count": 17,
   "id": "74a6f9db",
   "metadata": {},
   "outputs": [],
   "source": [
    "barys = pd.DataFrame(ncls.bary,index=AaccPDAC.p.index)\n",
    "barys.reset_index(inplace=True)\n",
    "barys[['u', 'v']] = barys['index'].str.split('$', expand=True)\n",
    "cmapse =[plt.cm.Blues,plt.cm.Reds,plt.cm.Greens]\n",
    "vtxcmap = {i[1]:plt.cm.tab10.colors[i[0]] for i in enumerate(AaccPDAC.nodes)}"
   ]
  },
  {
   "cell_type": "code",
   "execution_count": 18,
   "id": "63a83fe4",
   "metadata": {},
   "outputs": [
    {
     "data": {
      "image/png": "[encoded data removed]",
      "text/plain": [
       "<Figure size 1400x500 with 2 Axes>"
      ]
     },
     "execution_count": 18,
     "metadata": {},
     "output_type": "execute_result"
    }
   ],
   "source": [
    "sns.scatterplot(x=emb1[0:-3,0],\n",
    "                y=emb1[0:-3,1],hue=pdata_metadata.loc[AaccPDAC.Cs['PCA'].index,'accLabel'],s=200,linewidth=0,ax=axs[0])\n",
    "axs[0].legend(loc=0, bbox_to_anchor=(1, 0.5))\n",
    "axs[0].invert_xaxis()\n",
    "sns.scatterplot(x=emb1[:,0],\n",
    "                y=emb1[:,1],hue=tmplab,s=200,style=tmpstl,palette=list(plt.cm.Set1.colors)[0:3][::-1],\n",
    "                size=tmpstl,sizes=(400,200),linewidth=0,ax=axs[1])\n",
    "axs[1].legend(loc=0, bbox_to_anchor=(1, 0.5))\n",
    "#axs[1].invert_xaxis()\n",
    "fs"
   ]
  },
  {
   "cell_type": "code",
   "execution_count": 19,
   "id": "f053c998",
   "metadata": {},
   "outputs": [],
   "source": [
    "import scaccordion"
   ]
  },
  {
   "cell_type": "code",
   "execution_count": 20,
   "id": "f393941e",
   "metadata": {},
   "outputs": [
    {
     "name": "stdout",
     "output_type": "stream",
     "text": [
      "0.2.0.5\n"
     ]
    }
   ],
   "source": [
    "print(scaccordion.__version__)"
   ]
  }
 ],
 "metadata": {
  "kernelspec": {
   "display_name": "Python 3 (ipykernel)",
   "language": "python",
   "name": "python3"
  },
  "language_info": {
   "codemirror_mode": {
    "name": "ipython",
    "version": 3
   },
   "file_extension": ".py",
   "mimetype": "text/x-python",
   "name": "python",
   "nbconvert_exporter": "python",
   "pygments_lexer": "ipython3",
   "version": "3.10.12"
  }
 },
 "nbformat": 4,
 "nbformat_minor": 5
}
