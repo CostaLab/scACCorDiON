{
 "cells": [
  {
   "cell_type": "code",
   "execution_count": 1,
   "id": "1224b4ee",
   "metadata": {},
   "outputs": [],
   "source": [
    "from accordion import pdac\n",
    "from accordion.Accordion import Accordion \n",
    "import seaborn as sns"
   ]
  },
  {
   "cell_type": "code",
   "execution_count": 2,
   "id": "b2e271df",
   "metadata": {},
   "outputs": [],
   "source": [
    "data = pdac.load_peng2019()"
   ]
  },
  {
   "cell_type": "code",
   "execution_count": 3,
   "id": "1c281198",
   "metadata": {},
   "outputs": [],
   "source": [
    "data = {i:data[i] for i in data.keys()  if i.find(\"_x_\") < 0 }"
   ]
  },
  {
   "cell_type": "code",
   "execution_count": 4,
   "id": "aefe52c2",
   "metadata": {
    "scrolled": true
   },
   "outputs": [],
   "source": [
    "AaccPDAC= Accordion(tbls=data,weight='lr_means')"
   ]
  },
  {
   "cell_type": "code",
   "execution_count": 5,
   "id": "9755aa91",
   "metadata": {},
   "outputs": [
    {
     "name": "stdout",
     "output_type": "stream",
     "text": [
      "CTD\n"
     ]
    },
    {
     "name": "stderr",
     "output_type": "stream",
     "text": [
      "/home/james/.local/lib/python3.10/site-packages/accordion/distances.py:11: FutureWarning: adjacency_matrix will return a scipy.sparse array instead of a matrix in Networkx 3.0.\n",
      "  A = nx.adjacency_matrix(G,weight=weight).todense()\n"
     ]
    },
    {
     "name": "stdout",
     "output_type": "stream",
     "text": [
      "('distance', 'correlation')\n",
      "glasso\n"
     ]
    },
    {
     "name": "stderr",
     "output_type": "stream",
     "text": [
      "/home/james/.local/lib/python3.10/site-packages/sklearn/covariance/_graph_lasso.py:291: RuntimeWarning: invalid value encountered in multiply\n",
      "  precision_[indices != idx, idx] = -precision_[idx, idx] * coefs\n",
      "/home/james/.local/lib/python3.10/site-packages/sklearn/covariance/_graph_lasso.py:292: RuntimeWarning: invalid value encountered in multiply\n",
      "  precision_[idx, indices != idx] = -precision_[idx, idx] * coefs\n",
      "/home/james/.local/lib/python3.10/site-packages/numpy/core/_methods.py:232: RuntimeWarning: invalid value encountered in subtract\n",
      "  x = asanyarray(arr - arrmean)\n"
     ]
    }
   ],
   "source": [
    "AaccPDAC.make_pca()\n"
   ]
  },
  {
   "cell_type": "code",
   "execution_count": 21,
   "id": "01746cdd",
   "metadata": {},
   "outputs": [],
   "source": [
    "for i in AaccPDAC.p.columns:\n",
    "    AaccPDAC.p[i] = AaccPDAC.p[i]/AaccPDAC.p[i].sum()"
   ]
  },
  {
   "cell_type": "code",
   "execution_count": 22,
   "id": "48c14f7f",
   "metadata": {},
   "outputs": [
    {
     "name": "stdout",
     "output_type": "stream",
     "text": [
      "CTD\n"
     ]
    },
    {
     "name": "stderr",
     "output_type": "stream",
     "text": [
      "/home/james/.local/lib/python3.10/site-packages/accordion/distances.py:11: FutureWarning: adjacency_matrix will return a scipy.sparse array instead of a matrix in Networkx 3.0.\n",
      "  A = nx.adjacency_matrix(G,weight=weight).todense()\n"
     ]
    },
    {
     "name": "stdout",
     "output_type": "stream",
     "text": [
      "('distance', 'correlation')\n",
      "glasso\n"
     ]
    },
    {
     "name": "stderr",
     "output_type": "stream",
     "text": [
      "/home/james/.local/lib/python3.10/site-packages/numpy/core/_methods.py:232: RuntimeWarning: invalid value encountered in subtract\n",
      "  x = asanyarray(arr - arrmean)\n"
     ]
    }
   ],
   "source": [
    "AaccPDAC.compute_cost_all()"
   ]
  },
  {
   "cell_type": "code",
   "execution_count": 29,
   "id": "4635afb1",
   "metadata": {},
   "outputs": [
    {
     "name": "stderr",
     "output_type": "stream",
     "text": [
      "100%|███████████████████████████████████████████| 35/35 [00:00<00:00, 80.37it/s]\n"
     ]
    }
   ],
   "source": [
    "AaccPDAC.compute_wassestein(cost='correlation')"
   ]
  },
  {
   "cell_type": "code",
   "execution_count": 34,
   "id": "c9a2af4a",
   "metadata": {},
   "outputs": [
    {
     "name": "stderr",
     "output_type": "stream",
     "text": [
      "100%|███████████████████████████████████████████| 35/35 [00:00<00:00, 80.82it/s]\n"
     ]
    }
   ],
   "source": [
    "AaccPDAC.compute_wassestein(cost='CTD')"
   ]
  },
  {
   "cell_type": "code",
   "execution_count": 33,
   "id": "43188823",
   "metadata": {},
   "outputs": [],
   "source": [
    "from sklearn.cluster import KMeans"
   ]
  },
  {
   "cell_type": "code",
   "execution_count": 35,
   "id": "a8befaef",
   "metadata": {},
   "outputs": [],
   "source": [
    "clsm = KMeans(n_clusters=2)"
   ]
  },
  {
   "cell_type": "code",
   "execution_count": 38,
   "id": "ad91ed52",
   "metadata": {},
   "outputs": [],
   "source": [
    "import pydiffmap as dm"
   ]
  },
  {
   "cell_type": "code",
   "execution_count": 58,
   "id": "0f55a5e6",
   "metadata": {},
   "outputs": [],
   "source": [
    "aux = dm.diffusion_map.DiffusionMap.from_sklearn(metric='precomputed',n_evecs = 3, epsilon =1, alpha = 0.5, k=64)\n",
    "aux = aux.fit_transform(AaccPDAC.wdist['CTD'])"
   ]
  },
  {
   "cell_type": "code",
   "execution_count": 75,
   "id": "c46bfb92",
   "metadata": {},
   "outputs": [
    {
     "data": {
      "text/plain": [
       "<AxesSubplot: >"
      ]
     },
     "execution_count": 75,
     "metadata": {},
     "output_type": "execute_result"
    },
    {
     "data": {
      "image/png": "[encoded data removed]",
      "text/plain": [
       "<Figure size 640x480 with 1 Axes>"
      ]
     },
     "metadata": {},
     "output_type": "display_data"
    }
   ],
   "source": [
    "sns.scatterplot(x=aux[:,0],y=aux[:,1],hue=clsm.fit_predict(AaccPDAC.wdist['CTD'])) "
   ]
  },
  {
   "cell_type": "code",
   "execution_count": 74,
   "id": "cc39a592",
   "metadata": {},
   "outputs": [
    {
     "data": {
      "text/plain": [
       "<AxesSubplot: >"
      ]
     },
     "execution_count": 74,
     "metadata": {},
     "output_type": "execute_result"
    },
    {
     "data": {
      "image/png": "[encoded data removed]",
      "text/plain": [
       "<Figure size 640x480 with 1 Axes>"
      ]
     },
     "metadata": {},
     "output_type": "display_data"
    }
   ],
   "source": [
    "sns.scatterplot(x=clsm.fit_transform(AaccPDAC.wdist['CTD'])[:,0],\n",
    "                y=clsm.fit_transform(AaccPDAC.wdist['CTD'])[:,1],\n",
    "                hue=clsm.fit_predict(AaccPDAC.wdist['CTD']))"
   ]
  }
 ],
 "metadata": {
  "kernelspec": {
   "display_name": "Python 3 (ipykernel)",
   "language": "python",
   "name": "python3"
  },
  "language_info": {
   "codemirror_mode": {
    "name": "ipython",
    "version": 3
   },
   "file_extension": ".py",
   "mimetype": "text/x-python",
   "name": "python",
   "nbconvert_exporter": "python",
   "pygments_lexer": "ipython3",
   "version": "3.10.6"
  }
 },
 "nbformat": 4,
 "nbformat_minor": 5
}
