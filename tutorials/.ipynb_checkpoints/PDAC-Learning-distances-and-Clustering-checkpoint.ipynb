{
 "cells": [
  {
   "cell_type": "markdown",
   "id": "e5499881",
   "metadata": {},
   "source": [
    "# Tutorial: ACCorDIoN test data"
   ]
  },
  {
   "cell_type": "markdown",
   "id": "cf3c5033",
   "metadata": {},
   "source": [
    "James S. Nagai\n",
    "\n",
    "02.05.2023\n",
    "\n",
    "*Note: Before using ACCorDIoN make sure that you have the CrossTalkeR installed in your local R enviroment*\n",
    "\n",
    "CrossTalkeR object are read using the function \n",
    "\n",
    "Here we introduce scACCorDIoN. In this notebook, we guide you into the framework steps.\n",
    "\n",
    "```{python}\n",
    "parse_CrossTalkeR(\"file_path/LR.Rds\")\n",
    "```"
   ]
  },
  {
   "cell_type": "markdown",
   "id": "f6d9972e",
   "metadata": {},
   "source": [
    "## Load Libraries"
   ]
  },
  {
   "cell_type": "code",
   "execution_count": 3,
   "id": "1224b4ee",
   "metadata": {},
   "outputs": [
    {
     "name": "stderr",
     "output_type": "stream",
     "text": [
      "2024-03-18 16:42:40.316817: E external/local_xla/xla/stream_executor/cuda/cuda_dnn.cc:9261] Unable to register cuDNN factory: Attempting to register factory for plugin cuDNN when one has already been registered\n",
      "2024-03-18 16:42:40.316869: E external/local_xla/xla/stream_executor/cuda/cuda_fft.cc:607] Unable to register cuFFT factory: Attempting to register factory for plugin cuFFT when one has already been registered\n",
      "2024-03-18 16:42:40.862238: E external/local_xla/xla/stream_executor/cuda/cuda_blas.cc:1515] Unable to register cuBLAS factory: Attempting to register factory for plugin cuBLAS when one has already been registered\n",
      "2024-03-18 16:42:48.885543: W tensorflow/compiler/tf2tensorrt/utils/py_utils.cc:38] TF-TRT Warning: Could not find TensorRT\n",
      "/usr/lib/python3/dist-packages/requests/__init__.py:87: RequestsDependencyWarning: urllib3 (1.26.5) or chardet (5.2.0) doesn't match a supported version!\n",
      "  warnings.warn(\"urllib3 ({}) or chardet ({}) doesn't match a supported \"\n"
     ]
    }
   ],
   "source": [
    "from scaccordion import tl as actl\n",
    "import seaborn as sns\n",
    "import matplotlib.pyplot as plt\n",
    "from sklearn.cluster import KMeans\n",
    "import pydiffmap as dm\n",
    "import pandas as pd\n",
    "import networkx as nx\n",
    "from skimpy import skim\n",
    "from sklearn import covariance\n",
    "import conorm"
   ]
  },
  {
   "cell_type": "markdown",
   "id": "5c9e4f1d",
   "metadata": {},
   "source": [
    "### 1. Loading data and metadata\n",
    "Here, we explore the [Pancreas Adenocarcinoma Cohort](https://www.nature.com/articles/s41422-019-0195-y)(Peng et.al.,2019). The data available in scACCorDiON were pre-processed. The Ligand-Receptor inference were performed using the CellphoneDB methods (Efremova et. al., 2020) implemented in [LIANA](https://liana-py.readthedocs.io/en/latest/)(Dimitrov et. al.,2022). Networks were generated using [CrossTalkeR](https://costalab.github.io/CrossTalkeR/)(Nagai et. al., 2021)"
   ]
  },
  {
   "cell_type": "code",
   "execution_count": null,
   "id": "0b7c9ea8",
   "metadata": {},
   "outputs": [],
   "source": []
  },
  {
   "cell_type": "code",
   "execution_count": 4,
   "id": "b2e271df",
   "metadata": {},
   "outputs": [],
   "source": [
    "data = actl.datasets.load_peng2019()\n",
    "pdata_metadata = actl.datasets.load_peng2019_metadata()\n",
    "pdata_metadata['label1'] = ['Normal Pancreas' if i.find('normal')>= 0 else 'PDAC' for i in pdata_metadata.accLabel]"
   ]
  },
  {
   "cell_type": "markdown",
   "id": "b46a2bc9",
   "metadata": {},
   "source": [
    "#### 1.1. This are tables made by CrossTalkeR/Liana therefore we need to filter it to keep only the single(per sample) networks"
   ]
  },
  {
   "cell_type": "code",
   "execution_count": 5,
   "id": "1c281198",
   "metadata": {},
   "outputs": [],
   "source": [
    "data = {i:data[i] for i in data.keys()  if i.find(\"_x_\") < 0 }"
   ]
  },
  {
   "cell_type": "markdown",
   "id": "75cbb8ae",
   "metadata": {},
   "source": [
    "### 2. Now with the tables from CrossTalkeR/Liana we build the Accordion Object "
   ]
  },
  {
   "cell_type": "code",
   "execution_count": 6,
   "id": "2abdb566",
   "metadata": {},
   "outputs": [],
   "source": [
    "def norm(x):\n",
    "    nf = conorm.tmm(x+1e-5,trim_lfc=0,trim_mag=0)\n",
    "    return (nf)"
   ]
  },
  {
   "cell_type": "code",
   "execution_count": 7,
   "id": "1d0bfd56",
   "metadata": {},
   "outputs": [],
   "source": [
    "AaccPDAC = actl.Accordion(tbls=data,weight='lr_means', filter=False, normf=norm)\n",
    "AaccPDAC.make_pca()"
   ]
  },
  {
   "cell_type": "markdown",
   "id": "dc6dc562",
   "metadata": {},
   "source": [
    "### 3. Computing a PCA using the edge distribuition per sample"
   ]
  },
  {
   "cell_type": "code",
   "execution_count": 8,
   "id": "cfa28e51",
   "metadata": {},
   "outputs": [
    {
     "data": {
      "text/plain": [
       "Text(0, 0.5, 'PC2')"
      ]
     },
     "execution_count": 8,
     "metadata": {},
     "output_type": "execute_result"
    },
    {
     "data": {
      "image/png": "[encoded data removed]",
      "text/plain": [
       "<Figure size 640x480 with 1 Axes>"
      ]
     },
     "metadata": {},
     "output_type": "display_data"
    }
   ],
   "source": [
    "sns.scatterplot(x=0,y=1,data=AaccPDAC.Cs['PCA'],\n",
    "                hue=pdata_metadata.loc[AaccPDAC.Cs['PCA'].index,'accLabel'])\n",
    "plt.legend(loc='center left', bbox_to_anchor=(1, 0.5))\n",
    "plt.xlabel(\"PC1\")\n",
    "plt.ylabel(\"PC2\")\n"
   ]
  },
  {
   "cell_type": "markdown",
   "id": "4822455a",
   "metadata": {},
   "source": [
    "### 4 Optimal Transport: Wasserstein"
   ]
  },
  {
   "cell_type": "markdown",
   "id": "63962039",
   "metadata": {},
   "source": [
    "In this step we compute the graph-to-graph distance solving the Optimal Transport minimization problem. Note that, the Optimal Transport is done in two main steps: (1) we use the function **compute_cost()** to compute an edge-to-edge distance and (2) we use the edge weights and the cost to get a graph-to-graph distance matrix using **compute_wasserstein()**\n",
    "```{python}\n",
    "AaccPDAC.compute_cost_all() ## Run all the possible cost matrices\n",
    "```"
   ]
  },
  {
   "cell_type": "code",
   "execution_count": 7,
   "id": "7da4ccb3",
   "metadata": {},
   "outputs": [],
   "source": [
    "AaccPDAC.compute_cost(mode='HTD')\n",
    "AaccPDAC.compute_wassestein(cost='HTD_0.5')"
   ]
  },
  {
   "cell_type": "code",
   "execution_count": 13,
   "id": "3c8892a9",
   "metadata": {},
   "outputs": [],
   "source": [
    "dt=AaccPDAC.eval_all(y=pdata_metadata.loc[AaccPDAC.wdist['GRD'].index,'label1'].astype('category').cat.codes)"
   ]
  },
  {
   "cell_type": "code",
   "execution_count": null,
   "id": "3c033559",
   "metadata": {},
   "outputs": [],
   "source": [
    "dt"
   ]
  }
 ],
 "metadata": {
  "kernelspec": {
   "display_name": "Python 3 (ipykernel)",
   "language": "python",
   "name": "python3"
  },
  "language_info": {
   "codemirror_mode": {
    "name": "ipython",
    "version": 3
   },
   "file_extension": ".py",
   "mimetype": "text/x-python",
   "name": "python",
   "nbconvert_exporter": "python",
   "pygments_lexer": "ipython3",
   "version": "3.10.12"
  }
 },
 "nbformat": 4,
 "nbformat_minor": 5
}
