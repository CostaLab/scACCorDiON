{
 "cells": [
  {
   "cell_type": "code",
   "execution_count": 1,
   "id": "0b3f91da",
   "metadata": {},
   "outputs": [],
   "source": [
    "from scaccordion import tl as actl\n",
    "import seaborn as sns\n",
    "import skimpy as skm\n",
    "import numpy as np\n",
    "import pandas as pd\n",
    "import pickle\n",
    "import sklearn\n",
    "from sklearn import covariance\n",
    "import os\n",
    "import networkx as nx\n",
    "from scipy.sparse import diags\n",
    "from scipy.linalg import  norm\n",
    "from scipy.sparse.linalg import eigsh\n",
    "from sklearn.preprocessing import Normalizer\n",
    "from sklearn import manifold\n",
    "import matplotlib.pyplot as plt\n",
    "import ot\n",
    "selected = ['myocardial_infarction_processed',\n",
    "            'Peng_PDAC_processed']\n",
    "res =[]\n",
    "path = \"/home/james/icg/scRNA/Patients_scRNA/ctkerout/\"\n",
    "out = \"/home/james/icg/scRNA/Patients_scRNA/ICASSP/\"\n",
    "ver = True #i.find('PDAC') >=0:\n",
    "accobj = {}\n",
    "import warnings\n",
    "warnings.filterwarnings(\"ignore\")"
   ]
  },
  {
   "cell_type": "code",
   "execution_count": 2,
   "id": "bb2f898c",
   "metadata": {},
   "outputs": [
    {
     "name": "stdout",
     "output_type": "stream",
     "text": [
      "\n",
      "\n",
      "Dataset:Peng_PDAC_processed\n",
      "\n",
      "\n",
      "(35, 2)\n",
      "\n",
      "\n",
      "Cost Computed with success\n",
      "\n",
      "\n"
     ]
    },
    {
     "name": "stderr",
     "output_type": "stream",
     "text": [
      "100%|███████████████████████████████████████████| 35/35 [00:00<00:00, 93.42it/s]\n",
      "100%|██████████████████████████████████████████| 35/35 [00:00<00:00, 101.42it/s]\n",
      "100%|██████████████████████████████████████████| 35/35 [00:00<00:00, 106.68it/s]\n",
      "100%|███████████████████████████████████████████| 35/35 [00:00<00:00, 96.65it/s]\n"
     ]
    },
    {
     "name": "stdout",
     "output_type": "stream",
     "text": [
      "\n",
      "\n",
      "Dataset:myocardial_infarction_processed\n",
      "\n",
      "\n",
      "(20, 1)\n",
      "\n",
      "\n",
      "Cost Computed with success\n",
      "\n",
      "\n"
     ]
    },
    {
     "name": "stderr",
     "output_type": "stream",
     "text": [
      "100%|███████████████████████████████████████████| 20/20 [00:08<00:00,  2.38it/s]\n",
      "100%|███████████████████████████████████████████| 20/20 [00:11<00:00,  1.75it/s]\n",
      "100%|███████████████████████████████████████████| 20/20 [00:09<00:00,  2.19it/s]\n",
      "100%|███████████████████████████████████████████| 20/20 [00:11<00:00,  1.80it/s]\n"
     ]
    }
   ],
   "source": [
    "for i in os.listdir(path):\n",
    "        if  i in selected:\n",
    "            print(f\"\\n\\nDataset:{i}\\n\\n\")\n",
    "            currfile=path+i+'/LR_data_final.Rds'\n",
    "            data = actl.utils.parse_CrossTalkeR(currfile)\n",
    "            dtset = i.replace('_processed','')\n",
    "            metadata = pd.read_hdf(f\"/home/james/icg/scRNA/Patients_scRNA/data/metadata/{dtset}_metaacc.h5ad\")\n",
    "            print(metadata.shape)\n",
    "            data = {ik:data[ik] for ik in data.keys()  if ik.find(\"_x_\") < 0 }\n",
    "            data ={ik:data[ik] for ik in data.keys() if ik in list(metadata.index)}\n",
    "            Aaccdt = actl.Accordion(tbls=data,weight='lr_means')\n",
    "            Aaccdt.make_pca()\n",
    "            Aaccdt.compute_cost(mode='distance',metric='correlation')\n",
    "            Aaccdt.compute_cost('GRD')\n",
    "            Aaccdt.compute_cost('HTD')\n",
    "            Aaccdt.compute_cost('HTD',beta=1)\n",
    "            Aaccdt.compute_cost(mode='distancePCA',metric='euclidean')\n",
    "            A = nx.adjacency_matrix(Aaccdt.expgraph).todense()\n",
    "            print('\\n\\nCost Computed with success\\n\\n')\n",
    "            Aaccdt.compute_wassestein(cost='GRD')\n",
    "            Aaccdt.compute_wassestein(cost='correlation')\n",
    "            Aaccdt.compute_wassestein(cost='HTD_0.5')\n",
    "            Aaccdt.compute_wassestein(cost='HTD_1')\n",
    "            tmpout = out+i\n",
    "            #with open(f\"{tmpout}_data.pickle\",\"wb\") as dt:\n",
    "            #        pickle.dump(Aaccdt,dt)\n",
    "            accobj[i]=Aaccdt\n",
    "   "
   ]
  },
  {
   "cell_type": "code",
   "execution_count": 3,
   "id": "192b6360",
   "metadata": {},
   "outputs": [],
   "source": [
    "def minmax(x):\n",
    "    return x/np.max(x)"
   ]
  },
  {
   "cell_type": "code",
   "execution_count": 4,
   "id": "80ca40be",
   "metadata": {},
   "outputs": [
    {
     "name": "stdout",
     "output_type": "stream",
     "text": [
      "Peng_PDAC_processed\n",
      "myocardial_infarction_processed\n"
     ]
    }
   ],
   "source": [
    "for dt in os.listdir(path):\n",
    "    if dt in selected:# and dt in selected: \n",
    "        print(dt)\n",
    "        #f = open(path+dt,'rb')\n",
    "        dtset = dt.replace('_processed','').replace('.pickle','').replace('_data','')\n",
    "        metadata = pd.read_hdf(f\"/home/james/icg/scRNA/Patients_scRNA/data/metadata/{dtset}_metaacc.h5ad\")\n",
    "        Aaccdt = accobj[dt]\n",
    "        gwdist ={}\n",
    "        gwdistd1 ={}\n",
    "        gwdistd2 ={}\n",
    "        eset = [tuple(i.split('$')) for i in Aaccdt.p.index]\n",
    "        for i in Aaccdt.graphs.keys():\n",
    "                gwdist[i] ={}\n",
    "                gwdistd1[i] ={}\n",
    "                gwdistd2[i] ={}\n",
    "                for j in Aaccdt.graphs.keys():\n",
    "                    if i != j:\n",
    "                        p1 = np.ones(len(Aaccdt.graphs[i].nodes()))/len(Aaccdt.graphs[i].nodes())\n",
    "                        q1 = np.ones(len(Aaccdt.graphs[j].nodes()))/len(Aaccdt.graphs[j].nodes())\n",
    "                        tmpc1 = nx.to_pandas_adjacency(Aaccdt.graphs[i]).apply(lambda x:x/(sum(x)+1e-5),axis=1).to_numpy()\n",
    "                        tmpc2 = nx.to_pandas_adjacency(Aaccdt.graphs[j]).apply(lambda x:x/(sum(x)+1e-5),axis=1).to_numpy()\n",
    "                        c1_half = minmax(actl.distances.get_dhp(tmpc1))\n",
    "                        c2_half =  minmax(actl.distances.get_dhp(tmpc2))\n",
    "                        c1_one =  minmax(actl.distances.get_dhp(tmpc1,beta=1))\n",
    "                        c2_one =  minmax(actl.distances.get_dhp(tmpc2,beta=1))\n",
    "                        gwdistd1[i][j]=ot.gromov.gromov_wasserstein2(C1=c1_one,\n",
    "                                             C2=c2_one,\n",
    "                                             p=p1,\n",
    "                                             q=q1,\n",
    "                                             loss_fun='square_loss')\n",
    "                        gwdistd2[i][j]=ot.gromov.gromov_wasserstein2(C1=c1_half,\n",
    "                                              C2=c2_half,\n",
    "                                              p=p1,\n",
    "                                              q=q1,\n",
    "                                              loss_fun='square_loss')\n",
    "                        tmpc1 = nx.from_numpy_matrix(tmpc1,create_using=nx.DiGraph)\n",
    "                        tmpc1 = nx.relabel_nodes(tmpc1,{i[0]:i[1] for i in enumerate(Aaccdt.graphs[i])})\n",
    "                        tmpc2 = nx.from_numpy_matrix(tmpc2,create_using=nx.DiGraph)\n",
    "                        tmpc2 = nx.relabel_nodes(tmpc2,{i[0]:i[1] for i in enumerate(Aaccdt.graphs[j])})\n",
    "                        c1 =  minmax(actl.distances.ctd_dist(tmpc1))\n",
    "                        c2 =  minmax(actl.distances.ctd_dist(tmpc2))\n",
    "                        gwdist[i][j]=ot.gromov.gromov_wasserstein2(C1=c1,\n",
    "                                                          C2=c2,\n",
    "                                                          p=p1,\n",
    "                                                          q=q1,\n",
    "                                                          loss_fun='square_loss')                \n",
    "        gwctd = pd.DataFrame.from_dict(gwdist)\n",
    "        Aaccdt.wdist['gwctd']=np.round(gwctd.loc[Aaccdt.p.columns,Aaccdt.p.columns].fillna(0),5)\n",
    "        gwdistd1 = pd.DataFrame.from_dict(gwdistd1)\n",
    "        X_max = np.nanmax(gwdistd1[gwdistd1 != np.inf])\n",
    "        gwdistd1[gwdistd1 > X_max] = X_max\n",
    "        Aaccdt.wdist['gwdone']=np.round(gwdistd1.loc[Aaccdt.p.columns,Aaccdt.p.columns].fillna(0),5)\n",
    "        gwdistd2 = pd.DataFrame.from_dict(gwdistd2)\n",
    "        X_max = np.nanmax(gwdistd2[gwdistd2 != np.inf])\n",
    "        gwdistd2[gwdistd2 > X_max] = X_max\n",
    "        Aaccdt.wdist['gwdhalf']=np.round(gwdistd2.loc[Aaccdt.p.columns,Aaccdt.p.columns].fillna(0),5)\n",
    "        tmp=Aaccdt.eval_all(y=metadata.loc[Aaccdt.p.columns,'accLabel'].cat.codes)\n",
    "        tmp = pd.DataFrame.from_dict(tmp,orient=\"index\")\n",
    "        tmp['dataset'] = dt\n",
    "        res.append(tmp)"
   ]
  },
  {
   "cell_type": "code",
   "execution_count": 5,
   "id": "df57b647",
   "metadata": {},
   "outputs": [
    {
     "name": "stderr",
     "output_type": "stream",
     "text": [
      "No artists with labels found to put in legend.  Note that artists whose label start with an underscore are ignored when legend() is called with no argument.\n"
     ]
    },
    {
     "data": {
      "image/png": "[encoded data removed]",
      "text/plain": [
       "<Figure size 640x480 with 1 Axes>"
      ]
     },
     "metadata": {},
     "output_type": "display_data"
    }
   ],
   "source": [
    "tmp = pd.concat(res).reset_index()\n",
    "evaldt = tmp.loc[:,['index','ARS','dataset']]\n",
    "evaldt = evaldt.pivot(index='index',columns='dataset').T.reset_index().drop(columns='level_0')\n",
    "evaldt = evaldt.set_index('dataset').iloc[:,np.argsort(evaldt.set_index('dataset').mean())].reset_index()\n",
    "evaldt=evaldt.melt(id_vars='dataset')\n",
    "sns.boxplot(x=\"index\",y='value',data=evaldt)\n",
    "sns.despine(offset=0.2, trim=True)\n",
    "plt.xticks(rotation=45, ha='right')\n",
    "plt.title(\"ARI\")\n",
    "plt.legend(loc='center left', bbox_to_anchor=(1, 0.5))\n",
    "plt.yticks(np.arange(-0.3,1,0.2))\n",
    "plt.show()\n",
    "#evaldt=evaldt.reset_index().drop(columns='level_0').melt(id_vars='dataset')"
   ]
  },
  {
   "cell_type": "code",
   "execution_count": 8,
   "id": "c0398f8a",
   "metadata": {
    "scrolled": true
   },
   "outputs": [
    {
     "data": {
      "text/html": [
       "<div>\n",
       "<style scoped>\n",
       "    .dataframe tbody tr th:only-of-type {\n",
       "        vertical-align: middle;\n",
       "    }\n",
       "\n",
       "    .dataframe tbody tr th {\n",
       "        vertical-align: top;\n",
       "    }\n",
       "\n",
       "    .dataframe thead tr th {\n",
       "        text-align: left;\n",
       "    }\n",
       "\n",
       "    .dataframe thead tr:last-of-type th {\n",
       "        text-align: right;\n",
       "    }\n",
       "</style>\n",
       "<table border=\"1\" class=\"dataframe\">\n",
       "  <thead>\n",
       "    <tr>\n",
       "      <th></th>\n",
       "      <th colspan=\"8\" halign=\"left\">value</th>\n",
       "    </tr>\n",
       "    <tr>\n",
       "      <th>index</th>\n",
       "      <th>GRD</th>\n",
       "      <th>HTD_0.5</th>\n",
       "      <th>HTD_1</th>\n",
       "      <th>PCA_euclidean</th>\n",
       "      <th>correlation</th>\n",
       "      <th>gwctd</th>\n",
       "      <th>gwdhalf</th>\n",
       "      <th>gwdone</th>\n",
       "    </tr>\n",
       "    <tr>\n",
       "      <th>dataset</th>\n",
       "      <th></th>\n",
       "      <th></th>\n",
       "      <th></th>\n",
       "      <th></th>\n",
       "      <th></th>\n",
       "      <th></th>\n",
       "      <th></th>\n",
       "      <th></th>\n",
       "    </tr>\n",
       "  </thead>\n",
       "  <tbody>\n",
       "    <tr>\n",
       "      <th>Peng_PDAC_processed</th>\n",
       "      <td>0.884777</td>\n",
       "      <td>0.884777</td>\n",
       "      <td>0.884777</td>\n",
       "      <td>-0.018572</td>\n",
       "      <td>-0.033237</td>\n",
       "      <td>0.109974</td>\n",
       "      <td>0.109974</td>\n",
       "      <td>0.109974</td>\n",
       "    </tr>\n",
       "    <tr>\n",
       "      <th>myocardial_infarction_processed</th>\n",
       "      <td>0.455679</td>\n",
       "      <td>0.455679</td>\n",
       "      <td>0.455679</td>\n",
       "      <td>0.084967</td>\n",
       "      <td>0.312917</td>\n",
       "      <td>0.312917</td>\n",
       "      <td>0.312917</td>\n",
       "      <td>0.312917</td>\n",
       "    </tr>\n",
       "  </tbody>\n",
       "</table>\n",
       "</div>"
      ],
      "text/plain": [
       "                                    value                                    \\\n",
       "index                                 GRD   HTD_0.5     HTD_1 PCA_euclidean   \n",
       "dataset                                                                       \n",
       "Peng_PDAC_processed              0.884777  0.884777  0.884777     -0.018572   \n",
       "myocardial_infarction_processed  0.455679  0.455679  0.455679      0.084967   \n",
       "\n",
       "                                                                           \n",
       "index                           correlation     gwctd   gwdhalf    gwdone  \n",
       "dataset                                                                    \n",
       "Peng_PDAC_processed               -0.033237  0.109974  0.109974  0.109974  \n",
       "myocardial_infarction_processed    0.312917  0.312917  0.312917  0.312917  "
      ]
     },
     "execution_count": 8,
     "metadata": {},
     "output_type": "execute_result"
    }
   ],
   "source": [
    "evaldt.pivot(index='dataset',columns='index')"
   ]
  }
 ],
 "metadata": {
  "kernelspec": {
   "display_name": "Python 3 (ipykernel)",
   "language": "python",
   "name": "python3"
  },
  "language_info": {
   "codemirror_mode": {
    "name": "ipython",
    "version": 3
   },
   "file_extension": ".py",
   "mimetype": "text/x-python",
   "name": "python",
   "nbconvert_exporter": "python",
   "pygments_lexer": "ipython3",
   "version": "3.10.12"
  }
 },
 "nbformat": 4,
 "nbformat_minor": 5
}
